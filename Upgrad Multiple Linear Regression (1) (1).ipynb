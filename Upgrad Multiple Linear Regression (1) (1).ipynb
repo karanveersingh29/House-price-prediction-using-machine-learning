{
 "cells": [
  {
   "cell_type": "code",
   "execution_count": 441,
   "id": "03e43151",
   "metadata": {},
   "outputs": [],
   "source": [
    "# Here we are importing all the necessary libraries\n",
    "import pandas as pd\n",
    "import numpy as np\n",
    "import seaborn as sns\n",
    "import matplotlib.pyplot as plt\n",
    "from sklearn.model_selection import train_test_split\n",
    "from sklearn.linear_model import LinearRegression\n",
    "from sklearn.preprocessing import MinMaxScaler\n",
    "from sklearn.metrics import r2_score \n",
    "from sklearn.metrics import mean_squared_error\n",
    "import statsmodels.api as sm\n",
    "from statsmodels.stats.outliers_influence import variance_inflation_factor\n",
    "from sklearn.feature_selection import RFE"
   ]
  },
  {
   "cell_type": "code",
   "execution_count": 14,
   "id": "fec57b01",
   "metadata": {},
   "outputs": [],
   "source": [
    "import warnings\n",
    "warnings.filterwarnings('ignore')"
   ]
  },
  {
   "cell_type": "code",
   "execution_count": 4,
   "id": "1302c910",
   "metadata": {},
   "outputs": [],
   "source": [
    "df = pd.read_csv('Housing.csv')"
   ]
  },
  {
   "cell_type": "code",
   "execution_count": 5,
   "id": "3042c00d",
   "metadata": {},
   "outputs": [
    {
     "data": {
      "text/html": [
       "<div>\n",
       "<style scoped>\n",
       "    .dataframe tbody tr th:only-of-type {\n",
       "        vertical-align: middle;\n",
       "    }\n",
       "\n",
       "    .dataframe tbody tr th {\n",
       "        vertical-align: top;\n",
       "    }\n",
       "\n",
       "    .dataframe thead th {\n",
       "        text-align: right;\n",
       "    }\n",
       "</style>\n",
       "<table border=\"1\" class=\"dataframe\">\n",
       "  <thead>\n",
       "    <tr style=\"text-align: right;\">\n",
       "      <th></th>\n",
       "      <th>price</th>\n",
       "      <th>area</th>\n",
       "      <th>bedrooms</th>\n",
       "      <th>bathrooms</th>\n",
       "      <th>stories</th>\n",
       "      <th>mainroad</th>\n",
       "      <th>guestroom</th>\n",
       "      <th>basement</th>\n",
       "      <th>hotwaterheating</th>\n",
       "      <th>airconditioning</th>\n",
       "      <th>parking</th>\n",
       "      <th>prefarea</th>\n",
       "      <th>furnishingstatus</th>\n",
       "    </tr>\n",
       "  </thead>\n",
       "  <tbody>\n",
       "    <tr>\n",
       "      <th>0</th>\n",
       "      <td>13300000</td>\n",
       "      <td>7420</td>\n",
       "      <td>4</td>\n",
       "      <td>2</td>\n",
       "      <td>3</td>\n",
       "      <td>yes</td>\n",
       "      <td>no</td>\n",
       "      <td>no</td>\n",
       "      <td>no</td>\n",
       "      <td>yes</td>\n",
       "      <td>2</td>\n",
       "      <td>yes</td>\n",
       "      <td>furnished</td>\n",
       "    </tr>\n",
       "    <tr>\n",
       "      <th>1</th>\n",
       "      <td>12250000</td>\n",
       "      <td>8960</td>\n",
       "      <td>4</td>\n",
       "      <td>4</td>\n",
       "      <td>4</td>\n",
       "      <td>yes</td>\n",
       "      <td>no</td>\n",
       "      <td>no</td>\n",
       "      <td>no</td>\n",
       "      <td>yes</td>\n",
       "      <td>3</td>\n",
       "      <td>no</td>\n",
       "      <td>furnished</td>\n",
       "    </tr>\n",
       "    <tr>\n",
       "      <th>2</th>\n",
       "      <td>12250000</td>\n",
       "      <td>9960</td>\n",
       "      <td>3</td>\n",
       "      <td>2</td>\n",
       "      <td>2</td>\n",
       "      <td>yes</td>\n",
       "      <td>no</td>\n",
       "      <td>yes</td>\n",
       "      <td>no</td>\n",
       "      <td>no</td>\n",
       "      <td>2</td>\n",
       "      <td>yes</td>\n",
       "      <td>semi-furnished</td>\n",
       "    </tr>\n",
       "    <tr>\n",
       "      <th>3</th>\n",
       "      <td>12215000</td>\n",
       "      <td>7500</td>\n",
       "      <td>4</td>\n",
       "      <td>2</td>\n",
       "      <td>2</td>\n",
       "      <td>yes</td>\n",
       "      <td>no</td>\n",
       "      <td>yes</td>\n",
       "      <td>no</td>\n",
       "      <td>yes</td>\n",
       "      <td>3</td>\n",
       "      <td>yes</td>\n",
       "      <td>furnished</td>\n",
       "    </tr>\n",
       "    <tr>\n",
       "      <th>4</th>\n",
       "      <td>11410000</td>\n",
       "      <td>7420</td>\n",
       "      <td>4</td>\n",
       "      <td>1</td>\n",
       "      <td>2</td>\n",
       "      <td>yes</td>\n",
       "      <td>yes</td>\n",
       "      <td>yes</td>\n",
       "      <td>no</td>\n",
       "      <td>yes</td>\n",
       "      <td>2</td>\n",
       "      <td>no</td>\n",
       "      <td>furnished</td>\n",
       "    </tr>\n",
       "  </tbody>\n",
       "</table>\n",
       "</div>"
      ],
      "text/plain": [
       "      price  area  bedrooms  bathrooms  stories mainroad guestroom basement  \\\n",
       "0  13300000  7420         4          2        3      yes        no       no   \n",
       "1  12250000  8960         4          4        4      yes        no       no   \n",
       "2  12250000  9960         3          2        2      yes        no      yes   \n",
       "3  12215000  7500         4          2        2      yes        no      yes   \n",
       "4  11410000  7420         4          1        2      yes       yes      yes   \n",
       "\n",
       "  hotwaterheating airconditioning  parking prefarea furnishingstatus  \n",
       "0              no             yes        2      yes        furnished  \n",
       "1              no             yes        3       no        furnished  \n",
       "2              no              no        2      yes   semi-furnished  \n",
       "3              no             yes        3      yes        furnished  \n",
       "4              no             yes        2       no        furnished  "
      ]
     },
     "execution_count": 5,
     "metadata": {},
     "output_type": "execute_result"
    }
   ],
   "source": [
    "df.head()"
   ]
  },
  {
   "cell_type": "code",
   "execution_count": 6,
   "id": "2996c87a",
   "metadata": {},
   "outputs": [
    {
     "name": "stdout",
     "output_type": "stream",
     "text": [
      "<class 'pandas.core.frame.DataFrame'>\n",
      "RangeIndex: 545 entries, 0 to 544\n",
      "Data columns (total 13 columns):\n",
      " #   Column            Non-Null Count  Dtype \n",
      "---  ------            --------------  ----- \n",
      " 0   price             545 non-null    int64 \n",
      " 1   area              545 non-null    int64 \n",
      " 2   bedrooms          545 non-null    int64 \n",
      " 3   bathrooms         545 non-null    int64 \n",
      " 4   stories           545 non-null    int64 \n",
      " 5   mainroad          545 non-null    object\n",
      " 6   guestroom         545 non-null    object\n",
      " 7   basement          545 non-null    object\n",
      " 8   hotwaterheating   545 non-null    object\n",
      " 9   airconditioning   545 non-null    object\n",
      " 10  parking           545 non-null    int64 \n",
      " 11  prefarea          545 non-null    object\n",
      " 12  furnishingstatus  545 non-null    object\n",
      "dtypes: int64(6), object(7)\n",
      "memory usage: 55.5+ KB\n"
     ]
    }
   ],
   "source": [
    "df.info()\n",
    "# We can clearly see that there are no null values and all the columns are in right format"
   ]
  },
  {
   "cell_type": "code",
   "execution_count": 7,
   "id": "760b5ae0",
   "metadata": {},
   "outputs": [
    {
     "data": {
      "text/plain": [
       "price               0\n",
       "area                0\n",
       "bedrooms            0\n",
       "bathrooms           0\n",
       "stories             0\n",
       "mainroad            0\n",
       "guestroom           0\n",
       "basement            0\n",
       "hotwaterheating     0\n",
       "airconditioning     0\n",
       "parking             0\n",
       "prefarea            0\n",
       "furnishingstatus    0\n",
       "dtype: int64"
      ]
     },
     "execution_count": 7,
     "metadata": {},
     "output_type": "execute_result"
    }
   ],
   "source": [
    "# Dataset doesn't contain any null values\n",
    "df.isna().sum()"
   ]
  },
  {
   "cell_type": "code",
   "execution_count": 8,
   "id": "4ace8e7a",
   "metadata": {
    "scrolled": true
   },
   "outputs": [
    {
     "data": {
      "text/html": [
       "<div>\n",
       "<style scoped>\n",
       "    .dataframe tbody tr th:only-of-type {\n",
       "        vertical-align: middle;\n",
       "    }\n",
       "\n",
       "    .dataframe tbody tr th {\n",
       "        vertical-align: top;\n",
       "    }\n",
       "\n",
       "    .dataframe thead th {\n",
       "        text-align: right;\n",
       "    }\n",
       "</style>\n",
       "<table border=\"1\" class=\"dataframe\">\n",
       "  <thead>\n",
       "    <tr style=\"text-align: right;\">\n",
       "      <th></th>\n",
       "      <th>price</th>\n",
       "      <th>area</th>\n",
       "      <th>bedrooms</th>\n",
       "      <th>bathrooms</th>\n",
       "      <th>stories</th>\n",
       "      <th>parking</th>\n",
       "    </tr>\n",
       "  </thead>\n",
       "  <tbody>\n",
       "    <tr>\n",
       "      <th>count</th>\n",
       "      <td>5.450000e+02</td>\n",
       "      <td>545.000000</td>\n",
       "      <td>545.000000</td>\n",
       "      <td>545.000000</td>\n",
       "      <td>545.000000</td>\n",
       "      <td>545.000000</td>\n",
       "    </tr>\n",
       "    <tr>\n",
       "      <th>mean</th>\n",
       "      <td>4.766729e+06</td>\n",
       "      <td>5150.541284</td>\n",
       "      <td>2.965138</td>\n",
       "      <td>1.286239</td>\n",
       "      <td>1.805505</td>\n",
       "      <td>0.693578</td>\n",
       "    </tr>\n",
       "    <tr>\n",
       "      <th>std</th>\n",
       "      <td>1.870440e+06</td>\n",
       "      <td>2170.141023</td>\n",
       "      <td>0.738064</td>\n",
       "      <td>0.502470</td>\n",
       "      <td>0.867492</td>\n",
       "      <td>0.861586</td>\n",
       "    </tr>\n",
       "    <tr>\n",
       "      <th>min</th>\n",
       "      <td>1.750000e+06</td>\n",
       "      <td>1650.000000</td>\n",
       "      <td>1.000000</td>\n",
       "      <td>1.000000</td>\n",
       "      <td>1.000000</td>\n",
       "      <td>0.000000</td>\n",
       "    </tr>\n",
       "    <tr>\n",
       "      <th>25%</th>\n",
       "      <td>3.430000e+06</td>\n",
       "      <td>3600.000000</td>\n",
       "      <td>2.000000</td>\n",
       "      <td>1.000000</td>\n",
       "      <td>1.000000</td>\n",
       "      <td>0.000000</td>\n",
       "    </tr>\n",
       "    <tr>\n",
       "      <th>50%</th>\n",
       "      <td>4.340000e+06</td>\n",
       "      <td>4600.000000</td>\n",
       "      <td>3.000000</td>\n",
       "      <td>1.000000</td>\n",
       "      <td>2.000000</td>\n",
       "      <td>0.000000</td>\n",
       "    </tr>\n",
       "    <tr>\n",
       "      <th>75%</th>\n",
       "      <td>5.740000e+06</td>\n",
       "      <td>6360.000000</td>\n",
       "      <td>3.000000</td>\n",
       "      <td>2.000000</td>\n",
       "      <td>2.000000</td>\n",
       "      <td>1.000000</td>\n",
       "    </tr>\n",
       "    <tr>\n",
       "      <th>max</th>\n",
       "      <td>1.330000e+07</td>\n",
       "      <td>16200.000000</td>\n",
       "      <td>6.000000</td>\n",
       "      <td>4.000000</td>\n",
       "      <td>4.000000</td>\n",
       "      <td>3.000000</td>\n",
       "    </tr>\n",
       "  </tbody>\n",
       "</table>\n",
       "</div>"
      ],
      "text/plain": [
       "              price          area    bedrooms   bathrooms     stories  \\\n",
       "count  5.450000e+02    545.000000  545.000000  545.000000  545.000000   \n",
       "mean   4.766729e+06   5150.541284    2.965138    1.286239    1.805505   \n",
       "std    1.870440e+06   2170.141023    0.738064    0.502470    0.867492   \n",
       "min    1.750000e+06   1650.000000    1.000000    1.000000    1.000000   \n",
       "25%    3.430000e+06   3600.000000    2.000000    1.000000    1.000000   \n",
       "50%    4.340000e+06   4600.000000    3.000000    1.000000    2.000000   \n",
       "75%    5.740000e+06   6360.000000    3.000000    2.000000    2.000000   \n",
       "max    1.330000e+07  16200.000000    6.000000    4.000000    4.000000   \n",
       "\n",
       "          parking  \n",
       "count  545.000000  \n",
       "mean     0.693578  \n",
       "std      0.861586  \n",
       "min      0.000000  \n",
       "25%      0.000000  \n",
       "50%      0.000000  \n",
       "75%      1.000000  \n",
       "max      3.000000  "
      ]
     },
     "execution_count": 8,
     "metadata": {},
     "output_type": "execute_result"
    }
   ],
   "source": [
    "df.describe()"
   ]
  },
  {
   "cell_type": "code",
   "execution_count": null,
   "id": "e3e04657",
   "metadata": {},
   "outputs": [],
   "source": [
    "### Here we are visualizing our data to gain some insights from it."
   ]
  },
  {
   "cell_type": "code",
   "execution_count": 19,
   "id": "9cb01430",
   "metadata": {
    "scrolled": false
   },
   "outputs": [
    {
     "data": {
      "text/plain": [
       "<AxesSubplot:>"
      ]
     },
     "execution_count": 19,
     "metadata": {},
     "output_type": "execute_result"
    },
    {
     "data": {
      "image/png": "[encoded data removed]",
      "text/plain": [
       "<Figure size 720x576 with 2 Axes>"
      ]
     },
     "metadata": {
      "needs_background": "light"
     },
     "output_type": "display_data"
    }
   ],
   "source": [
    " # Here we are trying to see the correlation b/w all the numerical variables and based on that we can clearly see that area and bathrooms has some coorelation with price\n",
    "plt.figure(figsize = (10,8))\n",
    "sns.heatmap(df.corr() , annot = True  )"
   ]
  },
  {
   "cell_type": "code",
   "execution_count": 13,
   "id": "9355e65d",
   "metadata": {},
   "outputs": [
    {
     "data": {
      "text/plain": [
       "<seaborn.axisgrid.PairGrid at 0x148d696c9d0>"
      ]
     },
     "execution_count": 13,
     "metadata": {},
     "output_type": "execute_result"
    },
    {
     "data": {
      "image/png": "[encoded data removed]",
      "text/plain": [
       "<Figure size 1080x1080 with 42 Axes>"
      ]
     },
     "metadata": {
      "needs_background": "light"
     },
     "output_type": "display_data"
    }
   ],
   "source": [
    "sns.pairplot(df)"
   ]
  },
  {
   "cell_type": "code",
   "execution_count": 20,
   "id": "62ce9b3b",
   "metadata": {
    "scrolled": true
   },
   "outputs": [
    {
     "data": {
      "text/plain": [
       "Index(['price', 'area', 'bedrooms', 'bathrooms', 'stories', 'mainroad',\n",
       "       'guestroom', 'basement', 'hotwaterheating', 'airconditioning',\n",
       "       'parking', 'prefarea', 'furnishingstatus'],\n",
       "      dtype='object')"
      ]
     },
     "execution_count": 20,
     "metadata": {},
     "output_type": "execute_result"
    }
   ],
   "source": [
    "df.columns"
   ]
  },
  {
   "cell_type": "code",
   "execution_count": 23,
   "id": "2e677434",
   "metadata": {},
   "outputs": [
    {
     "data": {
      "text/plain": [
       "['mainroad',\n",
       " 'guestroom',\n",
       " 'basement',\n",
       " 'hotwaterheating',\n",
       " 'airconditioning',\n",
       " 'prefarea',\n",
       " 'furnishingstatus']"
      ]
     },
     "execution_count": 23,
     "metadata": {},
     "output_type": "execute_result"
    }
   ],
   "source": [
    "df.select_dtypes(exclude=['int64']).columns.tolist()"
   ]
  },
  {
   "cell_type": "code",
   "execution_count": null,
   "id": "1207f6f0",
   "metadata": {},
   "outputs": [],
   "source": [
    "# Let's plot boxplot for categorical variables"
   ]
  },
  {
   "cell_type": "code",
   "execution_count": 36,
   "id": "983a7da5",
   "metadata": {},
   "outputs": [
    {
     "data": {
      "image/png": "[encoded data removed]",
      "text/plain": [
       "<Figure size 1152x864 with 6 Axes>"
      ]
     },
     "metadata": {
      "needs_background": "light"
     },
     "output_type": "display_data"
    }
   ],
   "source": [
    "plt.figure(figsize=(16 , 12))\n",
    "plt.subplot(2,3,1)\n",
    "sns.boxplot(x = 'mainroad'  , y = 'price' , data = df)\n",
    "plt.subplot(2,3,2)\n",
    "sns.boxplot(x = 'guestroom'  , y = 'price' , data = df)\n",
    "plt.subplot(2,3,3)\n",
    "sns.boxplot(x = 'basement'  , y = 'price' , data = df)\n",
    "plt.subplot(2,3,4)\n",
    "sns.boxplot(x = 'hotwaterheating'  , y = 'price' , data = df)\n",
    "plt.subplot(2,3,5)\n",
    "sns.boxplot(x = 'airconditioning'  , y = 'price' , data = df)\n",
    "plt.subplot(2,3,6)\n",
    "sns.boxplot(x = 'furnishingstatus'  , y = 'price' , data = df)\n",
    "plt.show()"
   ]
  },
  {
   "cell_type": "code",
   "execution_count": 46,
   "id": "e8c15561",
   "metadata": {},
   "outputs": [
    {
     "data": {
      "text/plain": [
       "<AxesSubplot:xlabel='furnishingstatus', ylabel='price'>"
      ]
     },
     "execution_count": 46,
     "metadata": {},
     "output_type": "execute_result"
    },
    {
     "data": {
      "image/png": "[encoded data removed]",
      "text/plain": [
       "<Figure size 864x432 with 2 Axes>"
      ]
     },
     "metadata": {
      "needs_background": "light"
     },
     "output_type": "display_data"
    }
   ],
   "source": [
    "plt.figure(figsize =  (12,6))\n",
    "plt.subplot(1,2,1)\n",
    "sns.boxplot(x = 'furnishingstatus' , y = 'price' , hue =  'airconditioning' , data = df )\n",
    "plt.subplot(1,2,2)\n",
    "sns.boxplot(x = 'furnishingstatus' , y = 'price' , hue =  'basement' , data = df )"
   ]
  },
  {
   "cell_type": "code",
   "execution_count": 51,
   "id": "1c26ab2a",
   "metadata": {},
   "outputs": [],
   "source": [
    "df['hotwaterheating'].replace(('yes' , 'no'),(1,0) , inplace = True )"
   ]
  },
  {
   "cell_type": "code",
   "execution_count": 54,
   "id": "0c02c978",
   "metadata": {},
   "outputs": [],
   "source": [
    "df['mainroad'].replace(('yes' , 'no'),(1,0) , inplace = True )\n",
    "df['guestroom'].replace(('yes' , 'no'),(1,0) , inplace = True )\n",
    "df['basement'].replace(('yes' , 'no'),(1,0) , inplace = True )\n",
    "df['airconditioning'].replace(('yes' , 'no'),(1,0) , inplace = True )\n",
    "df['prefarea'].replace(('yes' , 'no'),(1,0) , inplace = True )"
   ]
  },
  {
   "cell_type": "code",
   "execution_count": 49,
   "id": "d89f578e",
   "metadata": {},
   "outputs": [
    {
     "data": {
      "text/plain": [
       "no     520\n",
       "yes     25\n",
       "Name: hotwaterheating, dtype: int64"
      ]
     },
     "execution_count": 49,
     "metadata": {},
     "output_type": "execute_result"
    }
   ],
   "source": [
    "df.hotwaterheating.value_counts()"
   ]
  },
  {
   "cell_type": "code",
   "execution_count": 475,
   "id": "0b88140b",
   "metadata": {},
   "outputs": [],
   "source": [
    "#Converted every categoriccal variables into binary\n"
   ]
  },
  {
   "cell_type": "code",
   "execution_count": 57,
   "id": "e5d3d6c8",
   "metadata": {},
   "outputs": [],
   "source": [
    "status = pd.get_dummies(df['furnishingstatus'])"
   ]
  },
  {
   "cell_type": "code",
   "execution_count": 60,
   "id": "8aaa5ed8",
   "metadata": {},
   "outputs": [],
   "source": [
    "status = pd.get_dummies(df['furnishingstatus'] , drop_first = True)"
   ]
  },
  {
   "cell_type": "code",
   "execution_count": 66,
   "id": "bd04f75b",
   "metadata": {},
   "outputs": [],
   "source": [
    "df = pd.concat([df , status] , axis = 1)"
   ]
  },
  {
   "cell_type": "code",
   "execution_count": 70,
   "id": "4de6b6e1",
   "metadata": {},
   "outputs": [],
   "source": [
    "df.drop('furnishingstatus' ,axis =1 , inplace = True)"
   ]
  },
  {
   "cell_type": "code",
   "execution_count": null,
   "id": "3323d752",
   "metadata": {},
   "outputs": [],
   "source": []
  },
  {
   "cell_type": "markdown",
   "id": "5e918016",
   "metadata": {},
   "source": [
    "####  -Now we have converted all the categorical variables into numerical variables \n"
   ]
  },
  {
   "cell_type": "markdown",
   "id": "55658073",
   "metadata": {},
   "source": [
    "#### **** Lets's split our dataset into trainig and test set , for training and testing of the model. ****"
   ]
  },
  {
   "cell_type": "code",
   "execution_count": 77,
   "id": "e0ae5e68",
   "metadata": {},
   "outputs": [],
   "source": [
    "X = df.drop('price' , axis = 1)"
   ]
  },
  {
   "cell_type": "code",
   "execution_count": 81,
   "id": "2716ff58",
   "metadata": {},
   "outputs": [],
   "source": [
    "y = df.iloc[: , :1]"
   ]
  },
  {
   "cell_type": "code",
   "execution_count": 145,
   "id": "b41a63f4",
   "metadata": {},
   "outputs": [],
   "source": [
    "# Now we are splitting our dataset into training and testing set.\n",
    "\n",
    "X_train , X_test , y_train , y_test = train_test_split(X, y ,test_size = 0.2)"
   ]
  },
  {
   "cell_type": "code",
   "execution_count": 133,
   "id": "0b1dfca7",
   "metadata": {},
   "outputs": [],
   "source": [
    "Df_train , df_test =  train_test_split(df , test_size = 0.25)"
   ]
  },
  {
   "cell_type": "code",
   "execution_count": 134,
   "id": "2fa9c9aa",
   "metadata": {},
   "outputs": [],
   "source": [
    "# Here we are creating the instance of MinMaxScaler for scaling the dataset\n",
    "scaling =MinMaxScaler()"
   ]
  },
  {
   "cell_type": "markdown",
   "id": "bfa46c25",
   "metadata": {},
   "source": [
    "#### Here we are converting every variable on same scale by using MinMaxScaling"
   ]
  },
  {
   "cell_type": "code",
   "execution_count": 105,
   "id": "b369d389",
   "metadata": {},
   "outputs": [],
   "source": [
    "cols = ['price' , 'area' , 'bedrooms' , 'bathrooms' ,'stories']"
   ]
  },
  {
   "cell_type": "code",
   "execution_count": 135,
   "id": "ae44c712",
   "metadata": {},
   "outputs": [],
   "source": [
    "Df_train[cols] = scaling.fit_transform(Df_train[cols])"
   ]
  },
  {
   "cell_type": "code",
   "execution_count": 136,
   "id": "1e6273f1",
   "metadata": {},
   "outputs": [
    {
     "data": {
      "text/plain": [
       "<AxesSubplot:>"
      ]
     },
     "execution_count": 136,
     "metadata": {},
     "output_type": "execute_result"
    },
    {
     "data": {
      "image/png": "[encoded data removed]",
      "text/plain": [
       "<Figure size 1152x720 with 2 Axes>"
      ]
     },
     "metadata": {
      "needs_background": "light"
     },
     "output_type": "display_data"
    }
   ],
   "source": [
    "plt.figure(figsize = (16 , 10))\n",
    "sns.heatmap(Df_train.corr() , annot = True , cmap=\"YlGnBu\")"
   ]
  },
  {
   "cell_type": "code",
   "execution_count": 137,
   "id": "5cbb1952",
   "metadata": {},
   "outputs": [
    {
     "data": {
      "image/png": "[encoded data removed]",
      "text/plain": [
       "<Figure size 432x288 with 1 Axes>"
      ]
     },
     "metadata": {
      "needs_background": "light"
     },
     "output_type": "display_data"
    }
   ],
   "source": [
    "plt.scatter(Df_train.area , Df_train.price )\n",
    "plt.xlabel('Area')\n",
    "plt.ylabel('Price')\n",
    "plt.title('AREA VS PRICE')\n",
    "plt.show()"
   ]
  },
  {
   "cell_type": "code",
   "execution_count": 248,
   "id": "6bbec526",
   "metadata": {},
   "outputs": [],
   "source": [
    "test_scale_columns = ['area' , 'bedrooms' , 'bathrooms' , 'stories']"
   ]
  },
  {
   "cell_type": "code",
   "execution_count": 139,
   "id": "84027085",
   "metadata": {},
   "outputs": [],
   "source": [
    "y_train = Df_train.pop('price')"
   ]
  },
  {
   "cell_type": "code",
   "execution_count": 140,
   "id": "e4e52e7d",
   "metadata": {},
   "outputs": [],
   "source": [
    "X_train = Df_train"
   ]
  },
  {
   "cell_type": "code",
   "execution_count": 252,
   "id": "99b924ed",
   "metadata": {},
   "outputs": [],
   "source": [
    "X_test[test_scale_columns] = scaling.fit_transform(X_test[test_scale_columns])"
   ]
  },
  {
   "cell_type": "code",
   "execution_count": 257,
   "id": "985907b5",
   "metadata": {},
   "outputs": [],
   "source": [
    "y_test['price'] = scaling.fit_transform(y_test[['price']])"
   ]
  },
  {
   "cell_type": "code",
   "execution_count": null,
   "id": "8f031b9b",
   "metadata": {},
   "outputs": [],
   "source": []
  },
  {
   "cell_type": "code",
   "execution_count": 163,
   "id": "f55bd864",
   "metadata": {},
   "outputs": [],
   "source": [
    "scale_columns = ['area' , 'bedrooms' , 'bathrooms' , 'stories']"
   ]
  },
  {
   "cell_type": "code",
   "execution_count": 165,
   "id": "7df2ae00",
   "metadata": {},
   "outputs": [],
   "source": [
    "X_train[scale_columns] = scaling.fit_transform(X_train[scale_columns])"
   ]
  },
  {
   "cell_type": "code",
   "execution_count": 185,
   "id": "85f26cee",
   "metadata": {},
   "outputs": [],
   "source": [
    "y_train[['price']] = scaling.fit_transform(y_train[['price']])"
   ]
  },
  {
   "cell_type": "code",
   "execution_count": null,
   "id": "74262ec4",
   "metadata": {
    "scrolled": false
   },
   "outputs": [],
   "source": []
  },
  {
   "cell_type": "code",
   "execution_count": null,
   "id": "61ab2131",
   "metadata": {},
   "outputs": [],
   "source": []
  },
  {
   "cell_type": "code",
   "execution_count": null,
   "id": "4fc4e924",
   "metadata": {},
   "outputs": [],
   "source": []
  },
  {
   "cell_type": "code",
   "execution_count": null,
   "id": "b436e4c1",
   "metadata": {},
   "outputs": [],
   "source": []
  },
  {
   "cell_type": "code",
   "execution_count": null,
   "id": "05585258",
   "metadata": {},
   "outputs": [],
   "source": []
  },
  {
   "cell_type": "code",
   "execution_count": null,
   "id": "1eca6948",
   "metadata": {},
   "outputs": [],
   "source": []
  },
  {
   "cell_type": "markdown",
   "id": "755dc5d6",
   "metadata": {},
   "source": [
    "### Building model with only one variable"
   ]
  },
  {
   "cell_type": "code",
   "execution_count": 202,
   "id": "d0230316",
   "metadata": {},
   "outputs": [],
   "source": [
    "ar = X_train.iloc[: ,  :1]"
   ]
  },
  {
   "cell_type": "code",
   "execution_count": 203,
   "id": "a84c3a94",
   "metadata": {},
   "outputs": [],
   "source": [
    "ar_model = LinearRegression()"
   ]
  },
  {
   "cell_type": "code",
   "execution_count": 204,
   "id": "fc3f7b5b",
   "metadata": {},
   "outputs": [
    {
     "data": {
      "text/plain": [
       "LinearRegression()"
      ]
     },
     "execution_count": 204,
     "metadata": {},
     "output_type": "execute_result"
    }
   ],
   "source": [
    "ar_model.fit(ar , y_train)"
   ]
  },
  {
   "cell_type": "code",
   "execution_count": 205,
   "id": "62722468",
   "metadata": {},
   "outputs": [
    {
     "data": {
      "text/plain": [
       "array([0.12284002])"
      ]
     },
     "execution_count": 205,
     "metadata": {},
     "output_type": "execute_result"
    }
   ],
   "source": [
    "ar_model.intercept_"
   ]
  },
  {
   "cell_type": "code",
   "execution_count": 207,
   "id": "f816a703",
   "metadata": {},
   "outputs": [
    {
     "data": {
      "text/plain": [
       "array([[0.56940017]])"
      ]
     },
     "execution_count": 207,
     "metadata": {},
     "output_type": "execute_result"
    }
   ],
   "source": [
    "ar_model.coef_"
   ]
  },
  {
   "cell_type": "code",
   "execution_count": 211,
   "id": "ef42da88",
   "metadata": {},
   "outputs": [
    {
     "data": {
      "text/plain": [
       "[<matplotlib.lines.Line2D at 0x148e99e6ee0>]"
      ]
     },
     "execution_count": 211,
     "metadata": {},
     "output_type": "execute_result"
    },
    {
     "data": {
      "image/png": "[encoded data removed]",
      "text/plain": [
       "<Figure size 432x288 with 1 Axes>"
      ]
     },
     "metadata": {
      "needs_background": "light"
     },
     "output_type": "display_data"
    }
   ],
   "source": [
    "plt.scatter(ar , y_train)\n",
    "plt.xlabel('Area')\n",
    "plt.ylabel('Price')\n",
    "plt.plot(ar , 0.12284002 + 0.56940017*ar , 'r')"
   ]
  },
  {
   "cell_type": "code",
   "execution_count": null,
   "id": "d5d7f9cb",
   "metadata": {},
   "outputs": [],
   "source": [
    "val = X_test.iloc[: , :1]"
   ]
  },
  {
   "cell_type": "code",
   "execution_count": 271,
   "id": "a5161e97",
   "metadata": {},
   "outputs": [],
   "source": [
    "predicted_val = ar_model.predict(val)"
   ]
  },
  {
   "cell_type": "code",
   "execution_count": 279,
   "id": "c552ee19",
   "metadata": {},
   "outputs": [
    {
     "data": {
      "text/plain": [
       "[<matplotlib.lines.Line2D at 0x148ea90cca0>]"
      ]
     },
     "execution_count": 279,
     "metadata": {},
     "output_type": "execute_result"
    },
    {
     "data": {
      "image/png": "[encoded data removed]",
      "text/plain": [
       "<Figure size 432x288 with 1 Axes>"
      ]
     },
     "metadata": {
      "needs_background": "light"
     },
     "output_type": "display_data"
    }
   ],
   "source": [
    "plt.scatter(y_test , val)\n",
    "plt.plot(val , predicted_val , 'r')"
   ]
  },
  {
   "cell_type": "code",
   "execution_count": 281,
   "id": "4a5800c3",
   "metadata": {},
   "outputs": [
    {
     "data": {
      "text/plain": [
       "0.29078719988930346"
      ]
     },
     "execution_count": 281,
     "metadata": {},
     "output_type": "execute_result"
    }
   ],
   "source": [
    "r2_score(y_test , predicted_val)"
   ]
  },
  {
   "cell_type": "markdown",
   "id": "84ae4d72",
   "metadata": {},
   "source": [
    "### Now let's create a model with two variables "
   ]
  },
  {
   "cell_type": "code",
   "execution_count": 225,
   "id": "b9519731",
   "metadata": {},
   "outputs": [],
   "source": [
    "# X_train\n",
    "two_vars = X_train[['area' , 'bathrooms']]"
   ]
  },
  {
   "cell_type": "code",
   "execution_count": 294,
   "id": "8df0cfd3",
   "metadata": {},
   "outputs": [],
   "source": [
    "# X_test\n",
    "tw_lr_X_test = X_test[['area' , 'bathrooms']]"
   ]
  },
  {
   "cell_type": "code",
   "execution_count": 226,
   "id": "b7a60997",
   "metadata": {},
   "outputs": [],
   "source": [
    "tw_lr = LinearRegression()"
   ]
  },
  {
   "cell_type": "code",
   "execution_count": 227,
   "id": "aab7c2f1",
   "metadata": {},
   "outputs": [
    {
     "data": {
      "text/plain": [
       "LinearRegression()"
      ]
     },
     "execution_count": 227,
     "metadata": {},
     "output_type": "execute_result"
    }
   ],
   "source": [
    "tw_lr.fit(two_vars , y_train)"
   ]
  },
  {
   "cell_type": "code",
   "execution_count": 229,
   "id": "2958e3ca",
   "metadata": {},
   "outputs": [
    {
     "data": {
      "text/plain": [
       "array([[0.46286037, 0.42412611]])"
      ]
     },
     "execution_count": 229,
     "metadata": {},
     "output_type": "execute_result"
    }
   ],
   "source": [
    "tw_lr.coef_"
   ]
  },
  {
   "cell_type": "code",
   "execution_count": 231,
   "id": "b8b5ce95",
   "metadata": {},
   "outputs": [
    {
     "data": {
      "text/plain": [
       "array([0.10724495])"
      ]
     },
     "execution_count": 231,
     "metadata": {},
     "output_type": "execute_result"
    }
   ],
   "source": [
    "tw_lr.intercept_"
   ]
  },
  {
   "cell_type": "code",
   "execution_count": 286,
   "id": "0d61ca4f",
   "metadata": {},
   "outputs": [
    {
     "data": {
      "text/plain": [
       "(109, 1)"
      ]
     },
     "execution_count": 286,
     "metadata": {},
     "output_type": "execute_result"
    }
   ],
   "source": [
    "y_test.shape"
   ]
  },
  {
   "cell_type": "code",
   "execution_count": 295,
   "id": "d2829125",
   "metadata": {},
   "outputs": [],
   "source": [
    "tw_lr_predicted = tw_lr.predict(tw_lr_X_test)"
   ]
  },
  {
   "cell_type": "code",
   "execution_count": null,
   "id": "1aaa37f3",
   "metadata": {},
   "outputs": [],
   "source": []
  },
  {
   "cell_type": "code",
   "execution_count": 296,
   "id": "8f832422",
   "metadata": {},
   "outputs": [
    {
     "data": {
      "text/plain": [
       "0.39859889278469873"
      ]
     },
     "execution_count": 296,
     "metadata": {},
     "output_type": "execute_result"
    }
   ],
   "source": [
    "r2_score(y_test , tw_lr_predicted)"
   ]
  },
  {
   "cell_type": "markdown",
   "id": "15b2d736",
   "metadata": {},
   "source": [
    "#### We can clearly see that the value of r2_score increased after adding the variables"
   ]
  },
  {
   "cell_type": "code",
   "execution_count": 297,
   "id": "c3d455dc",
   "metadata": {},
   "outputs": [
    {
     "data": {
      "text/plain": [
       "0.019730285847707682"
      ]
     },
     "execution_count": 297,
     "metadata": {},
     "output_type": "execute_result"
    }
   ],
   "source": [
    "mean_squared_error(y_test , tw_lr_predicted)"
   ]
  },
  {
   "cell_type": "markdown",
   "id": "70bcbaeb",
   "metadata": {},
   "source": [
    "### No we are making model by adding all the variables"
   ]
  },
  {
   "cell_type": "code",
   "execution_count": 302,
   "id": "bd48f97a",
   "metadata": {},
   "outputs": [],
   "source": [
    "all_vars_model = LinearRegression()"
   ]
  },
  {
   "cell_type": "code",
   "execution_count": 304,
   "id": "fce98136",
   "metadata": {},
   "outputs": [
    {
     "data": {
      "text/plain": [
       "LinearRegression()"
      ]
     },
     "execution_count": 304,
     "metadata": {},
     "output_type": "execute_result"
    }
   ],
   "source": [
    "all_vars_model.fit(X_train , y_train)"
   ]
  },
  {
   "cell_type": "code",
   "execution_count": 306,
   "id": "ca61171a",
   "metadata": {},
   "outputs": [
    {
     "data": {
      "text/plain": [
       "array([[ 0.30724392,  0.02042715,  0.26716129,  0.11727522,  0.03380246,\n",
       "         0.02792867,  0.02519392,  0.07831201,  0.07845263,  0.02207002,\n",
       "         0.05262112, -0.0119104 , -0.03792399]])"
      ]
     },
     "execution_count": 306,
     "metadata": {},
     "output_type": "execute_result"
    }
   ],
   "source": [
    "all_vars_model.coef_"
   ]
  },
  {
   "cell_type": "code",
   "execution_count": 307,
   "id": "887913c3",
   "metadata": {},
   "outputs": [
    {
     "data": {
      "text/plain": [
       "array([0.04199042])"
      ]
     },
     "execution_count": 307,
     "metadata": {},
     "output_type": "execute_result"
    }
   ],
   "source": [
    "all_vars_model.intercept_"
   ]
  },
  {
   "cell_type": "code",
   "execution_count": 309,
   "id": "b0282ec4",
   "metadata": {},
   "outputs": [],
   "source": [
    "X_test_predicted = all_vars_model.predict(X_test)"
   ]
  },
  {
   "cell_type": "code",
   "execution_count": 310,
   "id": "c59fc01f",
   "metadata": {},
   "outputs": [
    {
     "data": {
      "text/plain": [
       "0.5000339636790666"
      ]
     },
     "execution_count": 310,
     "metadata": {},
     "output_type": "execute_result"
    }
   ],
   "source": [
    "r2_score(X_test_predicted , y_test)"
   ]
  },
  {
   "cell_type": "code",
   "execution_count": 311,
   "id": "690472a7",
   "metadata": {
    "scrolled": true
   },
   "outputs": [
    {
     "data": {
      "text/plain": [
       "<matplotlib.collections.PathCollection at 0x148ea96be80>"
      ]
     },
     "execution_count": 311,
     "metadata": {},
     "output_type": "execute_result"
    },
    {
     "data": {
      "image/png": "[encoded data removed]",
      "text/plain": [
       "<Figure size 432x288 with 1 Axes>"
      ]
     },
     "metadata": {
      "needs_background": "light"
     },
     "output_type": "display_data"
    }
   ],
   "source": [
    "plt.scatter(X_test_predicted , y_test)"
   ]
  },
  {
   "cell_type": "markdown",
   "id": "d8bf8ffe",
   "metadata": {},
   "source": [
    "## Now we are trying to build our model with statsmodels library."
   ]
  },
  {
   "cell_type": "markdown",
   "id": "f314ce9c",
   "metadata": {},
   "source": [
    "#### First we build model with all the variabless  , and after looking at the different evaluation metrics we keep dropping the insignificant variables inorder to increase the performance of the model"
   ]
  },
  {
   "cell_type": "code",
   "execution_count": 313,
   "id": "92278fe2",
   "metadata": {},
   "outputs": [],
   "source": [
    "X_train_lm = sm.add_constant(X_train)"
   ]
  },
  {
   "cell_type": "code",
   "execution_count": 320,
   "id": "8fbfe837",
   "metadata": {},
   "outputs": [],
   "source": [
    "sm_lr = sm.OLS(y_train  , X_train_lm).fit()"
   ]
  },
  {
   "cell_type": "code",
   "execution_count": 321,
   "id": "514e1f28",
   "metadata": {},
   "outputs": [
    {
     "data": {
      "text/plain": [
       "const              0.041990\n",
       "area               0.307244\n",
       "bedrooms           0.020427\n",
       "bathrooms          0.267161\n",
       "stories            0.117275\n",
       "mainroad           0.033802\n",
       "guestroom          0.027929\n",
       "basement           0.025194\n",
       "hotwaterheating    0.078312\n",
       "airconditioning    0.078453\n",
       "parking            0.022070\n",
       "prefarea           0.052621\n",
       "semi-furnished    -0.011910\n",
       "unfurnished       -0.037924\n",
       "dtype: float64"
      ]
     },
     "execution_count": 321,
     "metadata": {},
     "output_type": "execute_result"
    }
   ],
   "source": [
    "sm_lr.params"
   ]
  },
  {
   "cell_type": "code",
   "execution_count": 326,
   "id": "4603d89b",
   "metadata": {},
   "outputs": [
    {
     "data": {
      "text/html": [
       "<table class=\"simpletable\">\n",
       "<caption>OLS Regression Results</caption>\n",
       "<tr>\n",
       "  <th>Dep. Variable:</th>          <td>price</td>      <th>  R-squared:         </th> <td>   0.682</td>\n",
       "</tr>\n",
       "<tr>\n",
       "  <th>Model:</th>                   <td>OLS</td>       <th>  Adj. R-squared:    </th> <td>   0.672</td>\n",
       "</tr>\n",
       "<tr>\n",
       "  <th>Method:</th>             <td>Least Squares</td>  <th>  F-statistic:       </th> <td>   69.60</td>\n",
       "</tr>\n",
       "<tr>\n",
       "  <th>Date:</th>             <td>Sat, 25 Dec 2021</td> <th>  Prob (F-statistic):</th> <td>3.03e-96</td>\n",
       "</tr>\n",
       "<tr>\n",
       "  <th>Time:</th>                 <td>23:28:10</td>     <th>  Log-Likelihood:    </th> <td>  426.79</td>\n",
       "</tr>\n",
       "<tr>\n",
       "  <th>No. Observations:</th>      <td>   436</td>      <th>  AIC:               </th> <td>  -825.6</td>\n",
       "</tr>\n",
       "<tr>\n",
       "  <th>Df Residuals:</th>          <td>   422</td>      <th>  BIC:               </th> <td>  -768.5</td>\n",
       "</tr>\n",
       "<tr>\n",
       "  <th>Df Model:</th>              <td>    13</td>      <th>                     </th>     <td> </td>   \n",
       "</tr>\n",
       "<tr>\n",
       "  <th>Covariance Type:</th>      <td>nonrobust</td>    <th>                     </th>     <td> </td>   \n",
       "</tr>\n",
       "</table>\n",
       "<table class=\"simpletable\">\n",
       "<tr>\n",
       "         <td></td>            <th>coef</th>     <th>std err</th>      <th>t</th>      <th>P>|t|</th>  <th>[0.025</th>    <th>0.975]</th>  \n",
       "</tr>\n",
       "<tr>\n",
       "  <th>const</th>           <td>    0.0420</td> <td>    0.018</td> <td>    2.346</td> <td> 0.019</td> <td>    0.007</td> <td>    0.077</td>\n",
       "</tr>\n",
       "<tr>\n",
       "  <th>area</th>            <td>    0.3072</td> <td>    0.034</td> <td>    9.161</td> <td> 0.000</td> <td>    0.241</td> <td>    0.373</td>\n",
       "</tr>\n",
       "<tr>\n",
       "  <th>bedrooms</th>        <td>    0.0204</td> <td>    0.029</td> <td>    0.699</td> <td> 0.485</td> <td>   -0.037</td> <td>    0.078</td>\n",
       "</tr>\n",
       "<tr>\n",
       "  <th>bathrooms</th>       <td>    0.2672</td> <td>    0.030</td> <td>    8.917</td> <td> 0.000</td> <td>    0.208</td> <td>    0.326</td>\n",
       "</tr>\n",
       "<tr>\n",
       "  <th>stories</th>         <td>    0.1173</td> <td>    0.018</td> <td>    6.411</td> <td> 0.000</td> <td>    0.081</td> <td>    0.153</td>\n",
       "</tr>\n",
       "<tr>\n",
       "  <th>mainroad</th>        <td>    0.0338</td> <td>    0.014</td> <td>    2.436</td> <td> 0.015</td> <td>    0.007</td> <td>    0.061</td>\n",
       "</tr>\n",
       "<tr>\n",
       "  <th>guestroom</th>       <td>    0.0279</td> <td>    0.013</td> <td>    2.160</td> <td> 0.031</td> <td>    0.003</td> <td>    0.053</td>\n",
       "</tr>\n",
       "<tr>\n",
       "  <th>basement</th>        <td>    0.0252</td> <td>    0.011</td> <td>    2.391</td> <td> 0.017</td> <td>    0.004</td> <td>    0.046</td>\n",
       "</tr>\n",
       "<tr>\n",
       "  <th>hotwaterheating</th> <td>    0.0783</td> <td>    0.021</td> <td>    3.791</td> <td> 0.000</td> <td>    0.038</td> <td>    0.119</td>\n",
       "</tr>\n",
       "<tr>\n",
       "  <th>airconditioning</th> <td>    0.0785</td> <td>    0.010</td> <td>    7.572</td> <td> 0.000</td> <td>    0.058</td> <td>    0.099</td>\n",
       "</tr>\n",
       "<tr>\n",
       "  <th>parking</th>         <td>    0.0221</td> <td>    0.006</td> <td>    3.947</td> <td> 0.000</td> <td>    0.011</td> <td>    0.033</td>\n",
       "</tr>\n",
       "<tr>\n",
       "  <th>prefarea</th>        <td>    0.0526</td> <td>    0.011</td> <td>    4.699</td> <td> 0.000</td> <td>    0.031</td> <td>    0.075</td>\n",
       "</tr>\n",
       "<tr>\n",
       "  <th>semi-furnished</th>  <td>   -0.0119</td> <td>    0.011</td> <td>   -1.045</td> <td> 0.297</td> <td>   -0.034</td> <td>    0.011</td>\n",
       "</tr>\n",
       "<tr>\n",
       "  <th>unfurnished</th>     <td>   -0.0379</td> <td>    0.012</td> <td>   -3.088</td> <td> 0.002</td> <td>   -0.062</td> <td>   -0.014</td>\n",
       "</tr>\n",
       "</table>\n",
       "<table class=\"simpletable\">\n",
       "<tr>\n",
       "  <th>Omnibus:</th>       <td>89.714</td> <th>  Durbin-Watson:     </th> <td>   1.882</td>\n",
       "</tr>\n",
       "<tr>\n",
       "  <th>Prob(Omnibus):</th> <td> 0.000</td> <th>  Jarque-Bera (JB):  </th> <td> 252.262</td>\n",
       "</tr>\n",
       "<tr>\n",
       "  <th>Skew:</th>          <td> 0.974</td> <th>  Prob(JB):          </th> <td>1.67e-55</td>\n",
       "</tr>\n",
       "<tr>\n",
       "  <th>Kurtosis:</th>      <td> 6.176</td> <th>  Cond. No.          </th> <td>    14.5</td>\n",
       "</tr>\n",
       "</table><br/><br/>Notes:<br/>[1] Standard Errors assume that the covariance matrix of the errors is correctly specified."
      ],
      "text/plain": [
       "<class 'statsmodels.iolib.summary.Summary'>\n",
       "\"\"\"\n",
       "                            OLS Regression Results                            \n",
       "==============================================================================\n",
       "Dep. Variable:                  price   R-squared:                       0.682\n",
       "Model:                            OLS   Adj. R-squared:                  0.672\n",
       "Method:                 Least Squares   F-statistic:                     69.60\n",
       "Date:                Sat, 25 Dec 2021   Prob (F-statistic):           3.03e-96\n",
       "Time:                        23:28:10   Log-Likelihood:                 426.79\n",
       "No. Observations:                 436   AIC:                            -825.6\n",
       "Df Residuals:                     422   BIC:                            -768.5\n",
       "Df Model:                          13                                         \n",
       "Covariance Type:            nonrobust                                         \n",
       "===================================================================================\n",
       "                      coef    std err          t      P>|t|      [0.025      0.975]\n",
       "-----------------------------------------------------------------------------------\n",
       "const               0.0420      0.018      2.346      0.019       0.007       0.077\n",
       "area                0.3072      0.034      9.161      0.000       0.241       0.373\n",
       "bedrooms            0.0204      0.029      0.699      0.485      -0.037       0.078\n",
       "bathrooms           0.2672      0.030      8.917      0.000       0.208       0.326\n",
       "stories             0.1173      0.018      6.411      0.000       0.081       0.153\n",
       "mainroad            0.0338      0.014      2.436      0.015       0.007       0.061\n",
       "guestroom           0.0279      0.013      2.160      0.031       0.003       0.053\n",
       "basement            0.0252      0.011      2.391      0.017       0.004       0.046\n",
       "hotwaterheating     0.0783      0.021      3.791      0.000       0.038       0.119\n",
       "airconditioning     0.0785      0.010      7.572      0.000       0.058       0.099\n",
       "parking             0.0221      0.006      3.947      0.000       0.011       0.033\n",
       "prefarea            0.0526      0.011      4.699      0.000       0.031       0.075\n",
       "semi-furnished     -0.0119      0.011     -1.045      0.297      -0.034       0.011\n",
       "unfurnished        -0.0379      0.012     -3.088      0.002      -0.062      -0.014\n",
       "==============================================================================\n",
       "Omnibus:                       89.714   Durbin-Watson:                   1.882\n",
       "Prob(Omnibus):                  0.000   Jarque-Bera (JB):              252.262\n",
       "Skew:                           0.974   Prob(JB):                     1.67e-55\n",
       "Kurtosis:                       6.176   Cond. No.                         14.5\n",
       "==============================================================================\n",
       "\n",
       "Notes:\n",
       "[1] Standard Errors assume that the covariance matrix of the errors is correctly specified.\n",
       "\"\"\""
      ]
     },
     "execution_count": 326,
     "metadata": {},
     "output_type": "execute_result"
    }
   ],
   "source": [
    "sm_lr.summary()"
   ]
  },
  {
   "cell_type": "code",
   "execution_count": 341,
   "id": "3a9e1585",
   "metadata": {},
   "outputs": [],
   "source": [
    "# We are trying to see the VIF of the variables\n",
    "\n",
    "vif = pd.DataFrame()\n",
    "vif['Features'] = X_train.columns\n",
    "vif['VIF'] = [variance_inflation_factor(X_train.values , i) for i in range(X_train.shape[1])]\n",
    "vif = round(vif , 2)\n",
    "vif = vif.sort_values(by = 'VIF' , ascending = False)"
   ]
  },
  {
   "cell_type": "code",
   "execution_count": 342,
   "id": "1d0a2438",
   "metadata": {},
   "outputs": [
    {
     "data": {
      "text/html": [
       "<div>\n",
       "<style scoped>\n",
       "    .dataframe tbody tr th:only-of-type {\n",
       "        vertical-align: middle;\n",
       "    }\n",
       "\n",
       "    .dataframe tbody tr th {\n",
       "        vertical-align: top;\n",
       "    }\n",
       "\n",
       "    .dataframe thead th {\n",
       "        text-align: right;\n",
       "    }\n",
       "</style>\n",
       "<table border=\"1\" class=\"dataframe\">\n",
       "  <thead>\n",
       "    <tr style=\"text-align: right;\">\n",
       "      <th></th>\n",
       "      <th>Features</th>\n",
       "      <th>VIF</th>\n",
       "    </tr>\n",
       "  </thead>\n",
       "  <tbody>\n",
       "    <tr>\n",
       "      <th>4</th>\n",
       "      <td>mainroad</td>\n",
       "      <td>5.57</td>\n",
       "    </tr>\n",
       "    <tr>\n",
       "      <th>0</th>\n",
       "      <td>area</td>\n",
       "      <td>4.43</td>\n",
       "    </tr>\n",
       "    <tr>\n",
       "      <th>1</th>\n",
       "      <td>bedrooms</td>\n",
       "      <td>3.64</td>\n",
       "    </tr>\n",
       "    <tr>\n",
       "      <th>3</th>\n",
       "      <td>stories</td>\n",
       "      <td>2.64</td>\n",
       "    </tr>\n",
       "    <tr>\n",
       "      <th>11</th>\n",
       "      <td>semi-furnished</td>\n",
       "      <td>2.10</td>\n",
       "    </tr>\n",
       "    <tr>\n",
       "      <th>9</th>\n",
       "      <td>parking</td>\n",
       "      <td>2.04</td>\n",
       "    </tr>\n",
       "    <tr>\n",
       "      <th>6</th>\n",
       "      <td>basement</td>\n",
       "      <td>1.94</td>\n",
       "    </tr>\n",
       "    <tr>\n",
       "      <th>2</th>\n",
       "      <td>bathrooms</td>\n",
       "      <td>1.77</td>\n",
       "    </tr>\n",
       "    <tr>\n",
       "      <th>8</th>\n",
       "      <td>airconditioning</td>\n",
       "      <td>1.74</td>\n",
       "    </tr>\n",
       "    <tr>\n",
       "      <th>12</th>\n",
       "      <td>unfurnished</td>\n",
       "      <td>1.73</td>\n",
       "    </tr>\n",
       "    <tr>\n",
       "      <th>5</th>\n",
       "      <td>guestroom</td>\n",
       "      <td>1.47</td>\n",
       "    </tr>\n",
       "    <tr>\n",
       "      <th>10</th>\n",
       "      <td>prefarea</td>\n",
       "      <td>1.47</td>\n",
       "    </tr>\n",
       "    <tr>\n",
       "      <th>7</th>\n",
       "      <td>hotwaterheating</td>\n",
       "      <td>1.09</td>\n",
       "    </tr>\n",
       "  </tbody>\n",
       "</table>\n",
       "</div>"
      ],
      "text/plain": [
       "           Features   VIF\n",
       "4          mainroad  5.57\n",
       "0              area  4.43\n",
       "1          bedrooms  3.64\n",
       "3           stories  2.64\n",
       "11   semi-furnished  2.10\n",
       "9           parking  2.04\n",
       "6          basement  1.94\n",
       "2         bathrooms  1.77\n",
       "8   airconditioning  1.74\n",
       "12      unfurnished  1.73\n",
       "5         guestroom  1.47\n",
       "10         prefarea  1.47\n",
       "7   hotwaterheating  1.09"
      ]
     },
     "execution_count": 342,
     "metadata": {},
     "output_type": "execute_result"
    }
   ],
   "source": [
    "vif"
   ]
  },
  {
   "cell_type": "markdown",
   "id": "14a0e246",
   "metadata": {},
   "source": [
    "### ****Here we are deleting the row with very high p-values i.e, 'Bedrooms ****"
   ]
  },
  {
   "cell_type": "code",
   "execution_count": 347,
   "id": "cc74362b",
   "metadata": {},
   "outputs": [],
   "source": [
    "updated_X_train = X_train_lm.drop('bedrooms' , axis = 1)"
   ]
  },
  {
   "cell_type": "code",
   "execution_count": 349,
   "id": "392a38ab",
   "metadata": {},
   "outputs": [],
   "source": [
    "upd_sm_model = sm.OLS(y_train , updated_X_train).fit()"
   ]
  },
  {
   "cell_type": "code",
   "execution_count": 350,
   "id": "8b4ec3fe",
   "metadata": {},
   "outputs": [
    {
     "data": {
      "text/plain": [
       "const              0.045125\n",
       "area               0.309058\n",
       "bathrooms          0.272267\n",
       "stories            0.121851\n",
       "mainroad           0.033038\n",
       "guestroom          0.027655\n",
       "basement           0.025948\n",
       "hotwaterheating    0.078380\n",
       "airconditioning    0.078096\n",
       "parking            0.022268\n",
       "prefarea           0.052884\n",
       "semi-furnished    -0.011858\n",
       "unfurnished       -0.038097\n",
       "dtype: float64"
      ]
     },
     "execution_count": 350,
     "metadata": {},
     "output_type": "execute_result"
    }
   ],
   "source": [
    "upd_sm_model.params"
   ]
  },
  {
   "cell_type": "code",
   "execution_count": 351,
   "id": "ddd19261",
   "metadata": {},
   "outputs": [
    {
     "data": {
      "text/html": [
       "<table class=\"simpletable\">\n",
       "<caption>OLS Regression Results</caption>\n",
       "<tr>\n",
       "  <th>Dep. Variable:</th>          <td>price</td>      <th>  R-squared:         </th> <td>   0.682</td>\n",
       "</tr>\n",
       "<tr>\n",
       "  <th>Model:</th>                   <td>OLS</td>       <th>  Adj. R-squared:    </th> <td>   0.673</td>\n",
       "</tr>\n",
       "<tr>\n",
       "  <th>Method:</th>             <td>Least Squares</td>  <th>  F-statistic:       </th> <td>   75.45</td>\n",
       "</tr>\n",
       "<tr>\n",
       "  <th>Date:</th>             <td>Sat, 25 Dec 2021</td> <th>  Prob (F-statistic):</th> <td>4.34e-97</td>\n",
       "</tr>\n",
       "<tr>\n",
       "  <th>Time:</th>                 <td>23:47:12</td>     <th>  Log-Likelihood:    </th> <td>  426.54</td>\n",
       "</tr>\n",
       "<tr>\n",
       "  <th>No. Observations:</th>      <td>   436</td>      <th>  AIC:               </th> <td>  -827.1</td>\n",
       "</tr>\n",
       "<tr>\n",
       "  <th>Df Residuals:</th>          <td>   423</td>      <th>  BIC:               </th> <td>  -774.1</td>\n",
       "</tr>\n",
       "<tr>\n",
       "  <th>Df Model:</th>              <td>    12</td>      <th>                     </th>     <td> </td>   \n",
       "</tr>\n",
       "<tr>\n",
       "  <th>Covariance Type:</th>      <td>nonrobust</td>    <th>                     </th>     <td> </td>   \n",
       "</tr>\n",
       "</table>\n",
       "<table class=\"simpletable\">\n",
       "<tr>\n",
       "         <td></td>            <th>coef</th>     <th>std err</th>      <th>t</th>      <th>P>|t|</th>  <th>[0.025</th>    <th>0.975]</th>  \n",
       "</tr>\n",
       "<tr>\n",
       "  <th>const</th>           <td>    0.0451</td> <td>    0.017</td> <td>    2.606</td> <td> 0.009</td> <td>    0.011</td> <td>    0.079</td>\n",
       "</tr>\n",
       "<tr>\n",
       "  <th>area</th>            <td>    0.3091</td> <td>    0.033</td> <td>    9.248</td> <td> 0.000</td> <td>    0.243</td> <td>    0.375</td>\n",
       "</tr>\n",
       "<tr>\n",
       "  <th>bathrooms</th>       <td>    0.2723</td> <td>    0.029</td> <td>    9.376</td> <td> 0.000</td> <td>    0.215</td> <td>    0.329</td>\n",
       "</tr>\n",
       "<tr>\n",
       "  <th>stories</th>         <td>    0.1219</td> <td>    0.017</td> <td>    7.138</td> <td> 0.000</td> <td>    0.088</td> <td>    0.155</td>\n",
       "</tr>\n",
       "<tr>\n",
       "  <th>mainroad</th>        <td>    0.0330</td> <td>    0.014</td> <td>    2.389</td> <td> 0.017</td> <td>    0.006</td> <td>    0.060</td>\n",
       "</tr>\n",
       "<tr>\n",
       "  <th>guestroom</th>       <td>    0.0277</td> <td>    0.013</td> <td>    2.141</td> <td> 0.033</td> <td>    0.002</td> <td>    0.053</td>\n",
       "</tr>\n",
       "<tr>\n",
       "  <th>basement</th>        <td>    0.0259</td> <td>    0.010</td> <td>    2.477</td> <td> 0.014</td> <td>    0.005</td> <td>    0.047</td>\n",
       "</tr>\n",
       "<tr>\n",
       "  <th>hotwaterheating</th> <td>    0.0784</td> <td>    0.021</td> <td>    3.796</td> <td> 0.000</td> <td>    0.038</td> <td>    0.119</td>\n",
       "</tr>\n",
       "<tr>\n",
       "  <th>airconditioning</th> <td>    0.0781</td> <td>    0.010</td> <td>    7.551</td> <td> 0.000</td> <td>    0.058</td> <td>    0.098</td>\n",
       "</tr>\n",
       "<tr>\n",
       "  <th>parking</th>         <td>    0.0223</td> <td>    0.006</td> <td>    3.990</td> <td> 0.000</td> <td>    0.011</td> <td>    0.033</td>\n",
       "</tr>\n",
       "<tr>\n",
       "  <th>prefarea</th>        <td>    0.0529</td> <td>    0.011</td> <td>    4.728</td> <td> 0.000</td> <td>    0.031</td> <td>    0.075</td>\n",
       "</tr>\n",
       "<tr>\n",
       "  <th>semi-furnished</th>  <td>   -0.0119</td> <td>    0.011</td> <td>   -1.041</td> <td> 0.299</td> <td>   -0.034</td> <td>    0.011</td>\n",
       "</tr>\n",
       "<tr>\n",
       "  <th>unfurnished</th>     <td>   -0.0381</td> <td>    0.012</td> <td>   -3.105</td> <td> 0.002</td> <td>   -0.062</td> <td>   -0.014</td>\n",
       "</tr>\n",
       "</table>\n",
       "<table class=\"simpletable\">\n",
       "<tr>\n",
       "  <th>Omnibus:</th>       <td>91.564</td> <th>  Durbin-Watson:     </th> <td>   1.890</td>\n",
       "</tr>\n",
       "<tr>\n",
       "  <th>Prob(Omnibus):</th> <td> 0.000</td> <th>  Jarque-Bera (JB):  </th> <td> 260.216</td>\n",
       "</tr>\n",
       "<tr>\n",
       "  <th>Skew:</th>          <td> 0.990</td> <th>  Prob(JB):          </th> <td>3.12e-57</td>\n",
       "</tr>\n",
       "<tr>\n",
       "  <th>Kurtosis:</th>      <td> 6.225</td> <th>  Cond. No.          </th> <td>    14.3</td>\n",
       "</tr>\n",
       "</table><br/><br/>Notes:<br/>[1] Standard Errors assume that the covariance matrix of the errors is correctly specified."
      ],
      "text/plain": [
       "<class 'statsmodels.iolib.summary.Summary'>\n",
       "\"\"\"\n",
       "                            OLS Regression Results                            \n",
       "==============================================================================\n",
       "Dep. Variable:                  price   R-squared:                       0.682\n",
       "Model:                            OLS   Adj. R-squared:                  0.673\n",
       "Method:                 Least Squares   F-statistic:                     75.45\n",
       "Date:                Sat, 25 Dec 2021   Prob (F-statistic):           4.34e-97\n",
       "Time:                        23:47:12   Log-Likelihood:                 426.54\n",
       "No. Observations:                 436   AIC:                            -827.1\n",
       "Df Residuals:                     423   BIC:                            -774.1\n",
       "Df Model:                          12                                         \n",
       "Covariance Type:            nonrobust                                         \n",
       "===================================================================================\n",
       "                      coef    std err          t      P>|t|      [0.025      0.975]\n",
       "-----------------------------------------------------------------------------------\n",
       "const               0.0451      0.017      2.606      0.009       0.011       0.079\n",
       "area                0.3091      0.033      9.248      0.000       0.243       0.375\n",
       "bathrooms           0.2723      0.029      9.376      0.000       0.215       0.329\n",
       "stories             0.1219      0.017      7.138      0.000       0.088       0.155\n",
       "mainroad            0.0330      0.014      2.389      0.017       0.006       0.060\n",
       "guestroom           0.0277      0.013      2.141      0.033       0.002       0.053\n",
       "basement            0.0259      0.010      2.477      0.014       0.005       0.047\n",
       "hotwaterheating     0.0784      0.021      3.796      0.000       0.038       0.119\n",
       "airconditioning     0.0781      0.010      7.551      0.000       0.058       0.098\n",
       "parking             0.0223      0.006      3.990      0.000       0.011       0.033\n",
       "prefarea            0.0529      0.011      4.728      0.000       0.031       0.075\n",
       "semi-furnished     -0.0119      0.011     -1.041      0.299      -0.034       0.011\n",
       "unfurnished        -0.0381      0.012     -3.105      0.002      -0.062      -0.014\n",
       "==============================================================================\n",
       "Omnibus:                       91.564   Durbin-Watson:                   1.890\n",
       "Prob(Omnibus):                  0.000   Jarque-Bera (JB):              260.216\n",
       "Skew:                           0.990   Prob(JB):                     3.12e-57\n",
       "Kurtosis:                       6.225   Cond. No.                         14.3\n",
       "==============================================================================\n",
       "\n",
       "Notes:\n",
       "[1] Standard Errors assume that the covariance matrix of the errors is correctly specified.\n",
       "\"\"\""
      ]
     },
     "execution_count": 351,
     "metadata": {},
     "output_type": "execute_result"
    }
   ],
   "source": [
    "upd_sm_model.summary()"
   ]
  },
  {
   "cell_type": "code",
   "execution_count": 378,
   "id": "744d3ce9",
   "metadata": {},
   "outputs": [],
   "source": [
    "Vif = pd.DataFrame()\n",
    "Vif['Features'] = updated_X_train.columns\n",
    "Vif['VIF'] = [variance_inflation_factor(updated_X_train.values , i) for i in range(updated_X_train.shape[1])]\n",
    "Vif = round(vif , 2)\n",
    "Vif = Vif.sort_values(by = 'VIF' , ascending = False)"
   ]
  },
  {
   "cell_type": "code",
   "execution_count": 379,
   "id": "0dca035c",
   "metadata": {
    "scrolled": true
   },
   "outputs": [
    {
     "data": {
      "text/html": [
       "<div>\n",
       "<style scoped>\n",
       "    .dataframe tbody tr th:only-of-type {\n",
       "        vertical-align: middle;\n",
       "    }\n",
       "\n",
       "    .dataframe tbody tr th {\n",
       "        vertical-align: top;\n",
       "    }\n",
       "\n",
       "    .dataframe thead th {\n",
       "        text-align: right;\n",
       "    }\n",
       "</style>\n",
       "<table border=\"1\" class=\"dataframe\">\n",
       "  <thead>\n",
       "    <tr style=\"text-align: right;\">\n",
       "      <th></th>\n",
       "      <th>Features</th>\n",
       "      <th>VIF</th>\n",
       "    </tr>\n",
       "  </thead>\n",
       "  <tbody>\n",
       "    <tr>\n",
       "      <th>4</th>\n",
       "      <td>mainroad</td>\n",
       "      <td>5.57</td>\n",
       "    </tr>\n",
       "    <tr>\n",
       "      <th>0</th>\n",
       "      <td>area</td>\n",
       "      <td>4.43</td>\n",
       "    </tr>\n",
       "    <tr>\n",
       "      <th>1</th>\n",
       "      <td>bedrooms</td>\n",
       "      <td>3.64</td>\n",
       "    </tr>\n",
       "    <tr>\n",
       "      <th>3</th>\n",
       "      <td>stories</td>\n",
       "      <td>2.64</td>\n",
       "    </tr>\n",
       "    <tr>\n",
       "      <th>11</th>\n",
       "      <td>semi-furnished</td>\n",
       "      <td>2.10</td>\n",
       "    </tr>\n",
       "    <tr>\n",
       "      <th>9</th>\n",
       "      <td>parking</td>\n",
       "      <td>2.04</td>\n",
       "    </tr>\n",
       "    <tr>\n",
       "      <th>6</th>\n",
       "      <td>basement</td>\n",
       "      <td>1.94</td>\n",
       "    </tr>\n",
       "    <tr>\n",
       "      <th>2</th>\n",
       "      <td>bathrooms</td>\n",
       "      <td>1.77</td>\n",
       "    </tr>\n",
       "    <tr>\n",
       "      <th>8</th>\n",
       "      <td>airconditioning</td>\n",
       "      <td>1.74</td>\n",
       "    </tr>\n",
       "    <tr>\n",
       "      <th>12</th>\n",
       "      <td>unfurnished</td>\n",
       "      <td>1.73</td>\n",
       "    </tr>\n",
       "    <tr>\n",
       "      <th>5</th>\n",
       "      <td>guestroom</td>\n",
       "      <td>1.47</td>\n",
       "    </tr>\n",
       "    <tr>\n",
       "      <th>10</th>\n",
       "      <td>prefarea</td>\n",
       "      <td>1.47</td>\n",
       "    </tr>\n",
       "    <tr>\n",
       "      <th>7</th>\n",
       "      <td>hotwaterheating</td>\n",
       "      <td>1.09</td>\n",
       "    </tr>\n",
       "  </tbody>\n",
       "</table>\n",
       "</div>"
      ],
      "text/plain": [
       "           Features   VIF\n",
       "4          mainroad  5.57\n",
       "0              area  4.43\n",
       "1          bedrooms  3.64\n",
       "3           stories  2.64\n",
       "11   semi-furnished  2.10\n",
       "9           parking  2.04\n",
       "6          basement  1.94\n",
       "2         bathrooms  1.77\n",
       "8   airconditioning  1.74\n",
       "12      unfurnished  1.73\n",
       "5         guestroom  1.47\n",
       "10         prefarea  1.47\n",
       "7   hotwaterheating  1.09"
      ]
     },
     "execution_count": 379,
     "metadata": {},
     "output_type": "execute_result"
    }
   ],
   "source": [
    "Vif"
   ]
  },
  {
   "cell_type": "markdown",
   "id": "c51294c4",
   "metadata": {},
   "source": [
    "## Here we are tying to remove the column i.e, 'mainroad'"
   ]
  },
  {
   "cell_type": "code",
   "execution_count": 357,
   "id": "57e456a1",
   "metadata": {},
   "outputs": [],
   "source": [
    "upd_X_train = updated_X_train.drop('mainroad' , axis = 1)"
   ]
  },
  {
   "cell_type": "code",
   "execution_count": 360,
   "id": "b3303fdb",
   "metadata": {},
   "outputs": [],
   "source": [
    "upd_sm =  sm.OLS(y_train , upd_X_train).fit()"
   ]
  },
  {
   "cell_type": "code",
   "execution_count": 362,
   "id": "3bbb6b73",
   "metadata": {},
   "outputs": [
    {
     "data": {
      "text/plain": [
       "const              0.069454\n",
       "area               0.322055\n",
       "bathrooms          0.267760\n",
       "stories            0.125519\n",
       "guestroom          0.029030\n",
       "basement           0.025747\n",
       "hotwaterheating    0.076994\n",
       "airconditioning    0.077856\n",
       "parking            0.024037\n",
       "prefarea           0.056254\n",
       "semi-furnished    -0.013141\n",
       "unfurnished       -0.041028\n",
       "dtype: float64"
      ]
     },
     "execution_count": 362,
     "metadata": {},
     "output_type": "execute_result"
    }
   ],
   "source": [
    "upd_sm.params"
   ]
  },
  {
   "cell_type": "code",
   "execution_count": 363,
   "id": "9e2ea4bf",
   "metadata": {},
   "outputs": [
    {
     "data": {
      "text/html": [
       "<table class=\"simpletable\">\n",
       "<caption>OLS Regression Results</caption>\n",
       "<tr>\n",
       "  <th>Dep. Variable:</th>          <td>price</td>      <th>  R-squared:         </th> <td>   0.677</td>\n",
       "</tr>\n",
       "<tr>\n",
       "  <th>Model:</th>                   <td>OLS</td>       <th>  Adj. R-squared:    </th> <td>   0.669</td>\n",
       "</tr>\n",
       "<tr>\n",
       "  <th>Method:</th>             <td>Least Squares</td>  <th>  F-statistic:       </th> <td>   80.89</td>\n",
       "</tr>\n",
       "<tr>\n",
       "  <th>Date:</th>             <td>Sat, 25 Dec 2021</td> <th>  Prob (F-statistic):</th> <td>7.77e-97</td>\n",
       "</tr>\n",
       "<tr>\n",
       "  <th>Time:</th>                 <td>23:59:25</td>     <th>  Log-Likelihood:    </th> <td>  423.61</td>\n",
       "</tr>\n",
       "<tr>\n",
       "  <th>No. Observations:</th>      <td>   436</td>      <th>  AIC:               </th> <td>  -823.2</td>\n",
       "</tr>\n",
       "<tr>\n",
       "  <th>Df Residuals:</th>          <td>   424</td>      <th>  BIC:               </th> <td>  -774.3</td>\n",
       "</tr>\n",
       "<tr>\n",
       "  <th>Df Model:</th>              <td>    11</td>      <th>                     </th>     <td> </td>   \n",
       "</tr>\n",
       "<tr>\n",
       "  <th>Covariance Type:</th>      <td>nonrobust</td>    <th>                     </th>     <td> </td>   \n",
       "</tr>\n",
       "</table>\n",
       "<table class=\"simpletable\">\n",
       "<tr>\n",
       "         <td></td>            <th>coef</th>     <th>std err</th>      <th>t</th>      <th>P>|t|</th>  <th>[0.025</th>    <th>0.975]</th>  \n",
       "</tr>\n",
       "<tr>\n",
       "  <th>const</th>           <td>    0.0695</td> <td>    0.014</td> <td>    4.932</td> <td> 0.000</td> <td>    0.042</td> <td>    0.097</td>\n",
       "</tr>\n",
       "<tr>\n",
       "  <th>area</th>            <td>    0.3221</td> <td>    0.033</td> <td>    9.714</td> <td> 0.000</td> <td>    0.257</td> <td>    0.387</td>\n",
       "</tr>\n",
       "<tr>\n",
       "  <th>bathrooms</th>       <td>    0.2678</td> <td>    0.029</td> <td>    9.190</td> <td> 0.000</td> <td>    0.210</td> <td>    0.325</td>\n",
       "</tr>\n",
       "<tr>\n",
       "  <th>stories</th>         <td>    0.1255</td> <td>    0.017</td> <td>    7.342</td> <td> 0.000</td> <td>    0.092</td> <td>    0.159</td>\n",
       "</tr>\n",
       "<tr>\n",
       "  <th>guestroom</th>       <td>    0.0290</td> <td>    0.013</td> <td>    2.237</td> <td> 0.026</td> <td>    0.004</td> <td>    0.055</td>\n",
       "</tr>\n",
       "<tr>\n",
       "  <th>basement</th>        <td>    0.0257</td> <td>    0.011</td> <td>    2.445</td> <td> 0.015</td> <td>    0.005</td> <td>    0.046</td>\n",
       "</tr>\n",
       "<tr>\n",
       "  <th>hotwaterheating</th> <td>    0.0770</td> <td>    0.021</td> <td>    3.710</td> <td> 0.000</td> <td>    0.036</td> <td>    0.118</td>\n",
       "</tr>\n",
       "<tr>\n",
       "  <th>airconditioning</th> <td>    0.0779</td> <td>    0.010</td> <td>    7.487</td> <td> 0.000</td> <td>    0.057</td> <td>    0.098</td>\n",
       "</tr>\n",
       "<tr>\n",
       "  <th>parking</th>         <td>    0.0240</td> <td>    0.006</td> <td>    4.322</td> <td> 0.000</td> <td>    0.013</td> <td>    0.035</td>\n",
       "</tr>\n",
       "<tr>\n",
       "  <th>prefarea</th>        <td>    0.0563</td> <td>    0.011</td> <td>    5.042</td> <td> 0.000</td> <td>    0.034</td> <td>    0.078</td>\n",
       "</tr>\n",
       "<tr>\n",
       "  <th>semi-furnished</th>  <td>   -0.0131</td> <td>    0.011</td> <td>   -1.148</td> <td> 0.252</td> <td>   -0.036</td> <td>    0.009</td>\n",
       "</tr>\n",
       "<tr>\n",
       "  <th>unfurnished</th>     <td>   -0.0410</td> <td>    0.012</td> <td>   -3.342</td> <td> 0.001</td> <td>   -0.065</td> <td>   -0.017</td>\n",
       "</tr>\n",
       "</table>\n",
       "<table class=\"simpletable\">\n",
       "<tr>\n",
       "  <th>Omnibus:</th>       <td>87.541</td> <th>  Durbin-Watson:     </th> <td>   1.898</td>\n",
       "</tr>\n",
       "<tr>\n",
       "  <th>Prob(Omnibus):</th> <td> 0.000</td> <th>  Jarque-Bera (JB):  </th> <td> 242.694</td>\n",
       "</tr>\n",
       "<tr>\n",
       "  <th>Skew:</th>          <td> 0.956</td> <th>  Prob(JB):          </th> <td>1.99e-53</td>\n",
       "</tr>\n",
       "<tr>\n",
       "  <th>Kurtosis:</th>      <td> 6.115</td> <th>  Cond. No.          </th> <td>    12.6</td>\n",
       "</tr>\n",
       "</table><br/><br/>Notes:<br/>[1] Standard Errors assume that the covariance matrix of the errors is correctly specified."
      ],
      "text/plain": [
       "<class 'statsmodels.iolib.summary.Summary'>\n",
       "\"\"\"\n",
       "                            OLS Regression Results                            \n",
       "==============================================================================\n",
       "Dep. Variable:                  price   R-squared:                       0.677\n",
       "Model:                            OLS   Adj. R-squared:                  0.669\n",
       "Method:                 Least Squares   F-statistic:                     80.89\n",
       "Date:                Sat, 25 Dec 2021   Prob (F-statistic):           7.77e-97\n",
       "Time:                        23:59:25   Log-Likelihood:                 423.61\n",
       "No. Observations:                 436   AIC:                            -823.2\n",
       "Df Residuals:                     424   BIC:                            -774.3\n",
       "Df Model:                          11                                         \n",
       "Covariance Type:            nonrobust                                         \n",
       "===================================================================================\n",
       "                      coef    std err          t      P>|t|      [0.025      0.975]\n",
       "-----------------------------------------------------------------------------------\n",
       "const               0.0695      0.014      4.932      0.000       0.042       0.097\n",
       "area                0.3221      0.033      9.714      0.000       0.257       0.387\n",
       "bathrooms           0.2678      0.029      9.190      0.000       0.210       0.325\n",
       "stories             0.1255      0.017      7.342      0.000       0.092       0.159\n",
       "guestroom           0.0290      0.013      2.237      0.026       0.004       0.055\n",
       "basement            0.0257      0.011      2.445      0.015       0.005       0.046\n",
       "hotwaterheating     0.0770      0.021      3.710      0.000       0.036       0.118\n",
       "airconditioning     0.0779      0.010      7.487      0.000       0.057       0.098\n",
       "parking             0.0240      0.006      4.322      0.000       0.013       0.035\n",
       "prefarea            0.0563      0.011      5.042      0.000       0.034       0.078\n",
       "semi-furnished     -0.0131      0.011     -1.148      0.252      -0.036       0.009\n",
       "unfurnished        -0.0410      0.012     -3.342      0.001      -0.065      -0.017\n",
       "==============================================================================\n",
       "Omnibus:                       87.541   Durbin-Watson:                   1.898\n",
       "Prob(Omnibus):                  0.000   Jarque-Bera (JB):              242.694\n",
       "Skew:                           0.956   Prob(JB):                     1.99e-53\n",
       "Kurtosis:                       6.115   Cond. No.                         12.6\n",
       "==============================================================================\n",
       "\n",
       "Notes:\n",
       "[1] Standard Errors assume that the covariance matrix of the errors is correctly specified.\n",
       "\"\"\""
      ]
     },
     "execution_count": 363,
     "metadata": {},
     "output_type": "execute_result"
    }
   ],
   "source": [
    "upd_sm.summary()"
   ]
  },
  {
   "cell_type": "code",
   "execution_count": 380,
   "id": "06ede76e",
   "metadata": {},
   "outputs": [],
   "source": [
    "Vvif = pd.DataFrame()\n",
    "Vvif['Features'] = upd_X_train.columns\n",
    "Vvif['VIF'] = [variance_inflation_factor(upd_X_train.values , i) for i in range(upd_X_train.shape[1])]\n",
    "Vvif = round(Vvif , 2)\n",
    "Vvif = Vvif.sort_values(by = 'VIF' , ascending = False)"
   ]
  },
  {
   "cell_type": "code",
   "execution_count": 381,
   "id": "35e43f4b",
   "metadata": {},
   "outputs": [
    {
     "data": {
      "text/html": [
       "<div>\n",
       "<style scoped>\n",
       "    .dataframe tbody tr th:only-of-type {\n",
       "        vertical-align: middle;\n",
       "    }\n",
       "\n",
       "    .dataframe tbody tr th {\n",
       "        vertical-align: top;\n",
       "    }\n",
       "\n",
       "    .dataframe thead th {\n",
       "        text-align: right;\n",
       "    }\n",
       "</style>\n",
       "<table border=\"1\" class=\"dataframe\">\n",
       "  <thead>\n",
       "    <tr style=\"text-align: right;\">\n",
       "      <th></th>\n",
       "      <th>Features</th>\n",
       "      <th>VIF</th>\n",
       "    </tr>\n",
       "  </thead>\n",
       "  <tbody>\n",
       "    <tr>\n",
       "      <th>0</th>\n",
       "      <td>const</td>\n",
       "      <td>10.02</td>\n",
       "    </tr>\n",
       "    <tr>\n",
       "      <th>11</th>\n",
       "      <td>unfurnished</td>\n",
       "      <td>1.70</td>\n",
       "    </tr>\n",
       "    <tr>\n",
       "      <th>10</th>\n",
       "      <td>semi-furnished</td>\n",
       "      <td>1.61</td>\n",
       "    </tr>\n",
       "    <tr>\n",
       "      <th>1</th>\n",
       "      <td>area</td>\n",
       "      <td>1.28</td>\n",
       "    </tr>\n",
       "    <tr>\n",
       "      <th>5</th>\n",
       "      <td>basement</td>\n",
       "      <td>1.28</td>\n",
       "    </tr>\n",
       "    <tr>\n",
       "      <th>3</th>\n",
       "      <td>stories</td>\n",
       "      <td>1.26</td>\n",
       "    </tr>\n",
       "    <tr>\n",
       "      <th>2</th>\n",
       "      <td>bathrooms</td>\n",
       "      <td>1.25</td>\n",
       "    </tr>\n",
       "    <tr>\n",
       "      <th>4</th>\n",
       "      <td>guestroom</td>\n",
       "      <td>1.21</td>\n",
       "    </tr>\n",
       "    <tr>\n",
       "      <th>7</th>\n",
       "      <td>airconditioning</td>\n",
       "      <td>1.19</td>\n",
       "    </tr>\n",
       "    <tr>\n",
       "      <th>8</th>\n",
       "      <td>parking</td>\n",
       "      <td>1.19</td>\n",
       "    </tr>\n",
       "    <tr>\n",
       "      <th>9</th>\n",
       "      <td>prefarea</td>\n",
       "      <td>1.11</td>\n",
       "    </tr>\n",
       "    <tr>\n",
       "      <th>6</th>\n",
       "      <td>hotwaterheating</td>\n",
       "      <td>1.04</td>\n",
       "    </tr>\n",
       "  </tbody>\n",
       "</table>\n",
       "</div>"
      ],
      "text/plain": [
       "           Features    VIF\n",
       "0             const  10.02\n",
       "11      unfurnished   1.70\n",
       "10   semi-furnished   1.61\n",
       "1              area   1.28\n",
       "5          basement   1.28\n",
       "3           stories   1.26\n",
       "2         bathrooms   1.25\n",
       "4         guestroom   1.21\n",
       "7   airconditioning   1.19\n",
       "8           parking   1.19\n",
       "9          prefarea   1.11\n",
       "6   hotwaterheating   1.04"
      ]
     },
     "execution_count": 381,
     "metadata": {},
     "output_type": "execute_result"
    }
   ],
   "source": [
    "Vvif"
   ]
  },
  {
   "cell_type": "code",
   "execution_count": null,
   "id": "606acd33",
   "metadata": {},
   "outputs": [],
   "source": []
  },
  {
   "cell_type": "markdown",
   "id": "e94ea612",
   "metadata": {},
   "source": [
    "## Now we are dropping 'Semi-Furnished' column "
   ]
  },
  {
   "cell_type": "code",
   "execution_count": 384,
   "id": "f807178e",
   "metadata": {},
   "outputs": [],
   "source": [
    "x = upd_X_train.drop('semi-furnished' , axis = 1)"
   ]
  },
  {
   "cell_type": "code",
   "execution_count": 387,
   "id": "5c101b0c",
   "metadata": {},
   "outputs": [],
   "source": [
    "unfur_model = sm.OLS(y_train , x).fit()"
   ]
  },
  {
   "cell_type": "code",
   "execution_count": 389,
   "id": "0e65ecd7",
   "metadata": {},
   "outputs": [
    {
     "data": {
      "text/plain": [
       "const              0.059932\n",
       "area               0.323844\n",
       "bathrooms          0.268666\n",
       "stories            0.126261\n",
       "guestroom          0.029472\n",
       "basement           0.025465\n",
       "hotwaterheating    0.076315\n",
       "airconditioning    0.078979\n",
       "parking            0.024124\n",
       "prefarea           0.056786\n",
       "unfurnished       -0.032490\n",
       "dtype: float64"
      ]
     },
     "execution_count": 389,
     "metadata": {},
     "output_type": "execute_result"
    }
   ],
   "source": [
    "unfur_model.params"
   ]
  },
  {
   "cell_type": "code",
   "execution_count": 390,
   "id": "ec6f370f",
   "metadata": {},
   "outputs": [
    {
     "data": {
      "text/html": [
       "<table class=\"simpletable\">\n",
       "<caption>OLS Regression Results</caption>\n",
       "<tr>\n",
       "  <th>Dep. Variable:</th>          <td>price</td>      <th>  R-squared:         </th> <td>   0.676</td>\n",
       "</tr>\n",
       "<tr>\n",
       "  <th>Model:</th>                   <td>OLS</td>       <th>  Adj. R-squared:    </th> <td>   0.669</td>\n",
       "</tr>\n",
       "<tr>\n",
       "  <th>Method:</th>             <td>Least Squares</td>  <th>  F-statistic:       </th> <td>   88.78</td>\n",
       "</tr>\n",
       "<tr>\n",
       "  <th>Date:</th>             <td>Sun, 26 Dec 2021</td> <th>  Prob (F-statistic):</th> <td>1.54e-97</td>\n",
       "</tr>\n",
       "<tr>\n",
       "  <th>Time:</th>                 <td>00:19:05</td>     <th>  Log-Likelihood:    </th> <td>  422.94</td>\n",
       "</tr>\n",
       "<tr>\n",
       "  <th>No. Observations:</th>      <td>   436</td>      <th>  AIC:               </th> <td>  -823.9</td>\n",
       "</tr>\n",
       "<tr>\n",
       "  <th>Df Residuals:</th>          <td>   425</td>      <th>  BIC:               </th> <td>  -779.0</td>\n",
       "</tr>\n",
       "<tr>\n",
       "  <th>Df Model:</th>              <td>    10</td>      <th>                     </th>     <td> </td>   \n",
       "</tr>\n",
       "<tr>\n",
       "  <th>Covariance Type:</th>      <td>nonrobust</td>    <th>                     </th>     <td> </td>   \n",
       "</tr>\n",
       "</table>\n",
       "<table class=\"simpletable\">\n",
       "<tr>\n",
       "         <td></td>            <th>coef</th>     <th>std err</th>      <th>t</th>      <th>P>|t|</th>  <th>[0.025</th>    <th>0.975]</th>  \n",
       "</tr>\n",
       "<tr>\n",
       "  <th>const</th>           <td>    0.0599</td> <td>    0.011</td> <td>    5.264</td> <td> 0.000</td> <td>    0.038</td> <td>    0.082</td>\n",
       "</tr>\n",
       "<tr>\n",
       "  <th>area</th>            <td>    0.3238</td> <td>    0.033</td> <td>    9.775</td> <td> 0.000</td> <td>    0.259</td> <td>    0.389</td>\n",
       "</tr>\n",
       "<tr>\n",
       "  <th>bathrooms</th>       <td>    0.2687</td> <td>    0.029</td> <td>    9.221</td> <td> 0.000</td> <td>    0.211</td> <td>    0.326</td>\n",
       "</tr>\n",
       "<tr>\n",
       "  <th>stories</th>         <td>    0.1263</td> <td>    0.017</td> <td>    7.388</td> <td> 0.000</td> <td>    0.093</td> <td>    0.160</td>\n",
       "</tr>\n",
       "<tr>\n",
       "  <th>guestroom</th>       <td>    0.0295</td> <td>    0.013</td> <td>    2.271</td> <td> 0.024</td> <td>    0.004</td> <td>    0.055</td>\n",
       "</tr>\n",
       "<tr>\n",
       "  <th>basement</th>        <td>    0.0255</td> <td>    0.011</td> <td>    2.418</td> <td> 0.016</td> <td>    0.005</td> <td>    0.046</td>\n",
       "</tr>\n",
       "<tr>\n",
       "  <th>hotwaterheating</th> <td>    0.0763</td> <td>    0.021</td> <td>    3.678</td> <td> 0.000</td> <td>    0.036</td> <td>    0.117</td>\n",
       "</tr>\n",
       "<tr>\n",
       "  <th>airconditioning</th> <td>    0.0790</td> <td>    0.010</td> <td>    7.626</td> <td> 0.000</td> <td>    0.059</td> <td>    0.099</td>\n",
       "</tr>\n",
       "<tr>\n",
       "  <th>parking</th>         <td>    0.0241</td> <td>    0.006</td> <td>    4.336</td> <td> 0.000</td> <td>    0.013</td> <td>    0.035</td>\n",
       "</tr>\n",
       "<tr>\n",
       "  <th>prefarea</th>        <td>    0.0568</td> <td>    0.011</td> <td>    5.092</td> <td> 0.000</td> <td>    0.035</td> <td>    0.079</td>\n",
       "</tr>\n",
       "<tr>\n",
       "  <th>unfurnished</th>     <td>   -0.0325</td> <td>    0.010</td> <td>   -3.325</td> <td> 0.001</td> <td>   -0.052</td> <td>   -0.013</td>\n",
       "</tr>\n",
       "</table>\n",
       "<table class=\"simpletable\">\n",
       "<tr>\n",
       "  <th>Omnibus:</th>       <td>88.650</td> <th>  Durbin-Watson:     </th> <td>   1.894</td>\n",
       "</tr>\n",
       "<tr>\n",
       "  <th>Prob(Omnibus):</th> <td> 0.000</td> <th>  Jarque-Bera (JB):  </th> <td> 250.957</td>\n",
       "</tr>\n",
       "<tr>\n",
       "  <th>Skew:</th>          <td> 0.960</td> <th>  Prob(JB):          </th> <td>3.20e-55</td>\n",
       "</tr>\n",
       "<tr>\n",
       "  <th>Kurtosis:</th>      <td> 6.182</td> <th>  Cond. No.          </th> <td>    12.1</td>\n",
       "</tr>\n",
       "</table><br/><br/>Notes:<br/>[1] Standard Errors assume that the covariance matrix of the errors is correctly specified."
      ],
      "text/plain": [
       "<class 'statsmodels.iolib.summary.Summary'>\n",
       "\"\"\"\n",
       "                            OLS Regression Results                            \n",
       "==============================================================================\n",
       "Dep. Variable:                  price   R-squared:                       0.676\n",
       "Model:                            OLS   Adj. R-squared:                  0.669\n",
       "Method:                 Least Squares   F-statistic:                     88.78\n",
       "Date:                Sun, 26 Dec 2021   Prob (F-statistic):           1.54e-97\n",
       "Time:                        00:19:05   Log-Likelihood:                 422.94\n",
       "No. Observations:                 436   AIC:                            -823.9\n",
       "Df Residuals:                     425   BIC:                            -779.0\n",
       "Df Model:                          10                                         \n",
       "Covariance Type:            nonrobust                                         \n",
       "===================================================================================\n",
       "                      coef    std err          t      P>|t|      [0.025      0.975]\n",
       "-----------------------------------------------------------------------------------\n",
       "const               0.0599      0.011      5.264      0.000       0.038       0.082\n",
       "area                0.3238      0.033      9.775      0.000       0.259       0.389\n",
       "bathrooms           0.2687      0.029      9.221      0.000       0.211       0.326\n",
       "stories             0.1263      0.017      7.388      0.000       0.093       0.160\n",
       "guestroom           0.0295      0.013      2.271      0.024       0.004       0.055\n",
       "basement            0.0255      0.011      2.418      0.016       0.005       0.046\n",
       "hotwaterheating     0.0763      0.021      3.678      0.000       0.036       0.117\n",
       "airconditioning     0.0790      0.010      7.626      0.000       0.059       0.099\n",
       "parking             0.0241      0.006      4.336      0.000       0.013       0.035\n",
       "prefarea            0.0568      0.011      5.092      0.000       0.035       0.079\n",
       "unfurnished        -0.0325      0.010     -3.325      0.001      -0.052      -0.013\n",
       "==============================================================================\n",
       "Omnibus:                       88.650   Durbin-Watson:                   1.894\n",
       "Prob(Omnibus):                  0.000   Jarque-Bera (JB):              250.957\n",
       "Skew:                           0.960   Prob(JB):                     3.20e-55\n",
       "Kurtosis:                       6.182   Cond. No.                         12.1\n",
       "==============================================================================\n",
       "\n",
       "Notes:\n",
       "[1] Standard Errors assume that the covariance matrix of the errors is correctly specified.\n",
       "\"\"\""
      ]
     },
     "execution_count": 390,
     "metadata": {},
     "output_type": "execute_result"
    }
   ],
   "source": [
    "unfur_model.summary()"
   ]
  },
  {
   "cell_type": "code",
   "execution_count": 391,
   "id": "b62c8bb2",
   "metadata": {},
   "outputs": [],
   "source": [
    "Vvvif = pd.DataFrame()\n",
    "Vvvif['Features'] = x.columns\n",
    "Vvvif['VIF'] = [variance_inflation_factor(x.values , i) for i in range(x.shape[1])]\n",
    "Vvvif = round(Vvif , 2)\n",
    "Vvvif = Vvif.sort_values(by = 'VIF' , ascending = False)"
   ]
  },
  {
   "cell_type": "code",
   "execution_count": 393,
   "id": "764da693",
   "metadata": {},
   "outputs": [
    {
     "data": {
      "text/html": [
       "<div>\n",
       "<style scoped>\n",
       "    .dataframe tbody tr th:only-of-type {\n",
       "        vertical-align: middle;\n",
       "    }\n",
       "\n",
       "    .dataframe tbody tr th {\n",
       "        vertical-align: top;\n",
       "    }\n",
       "\n",
       "    .dataframe thead th {\n",
       "        text-align: right;\n",
       "    }\n",
       "</style>\n",
       "<table border=\"1\" class=\"dataframe\">\n",
       "  <thead>\n",
       "    <tr style=\"text-align: right;\">\n",
       "      <th></th>\n",
       "      <th>Features</th>\n",
       "      <th>VIF</th>\n",
       "    </tr>\n",
       "  </thead>\n",
       "  <tbody>\n",
       "    <tr>\n",
       "      <th>0</th>\n",
       "      <td>const</td>\n",
       "      <td>10.02</td>\n",
       "    </tr>\n",
       "    <tr>\n",
       "      <th>11</th>\n",
       "      <td>unfurnished</td>\n",
       "      <td>1.70</td>\n",
       "    </tr>\n",
       "    <tr>\n",
       "      <th>10</th>\n",
       "      <td>semi-furnished</td>\n",
       "      <td>1.61</td>\n",
       "    </tr>\n",
       "    <tr>\n",
       "      <th>1</th>\n",
       "      <td>area</td>\n",
       "      <td>1.28</td>\n",
       "    </tr>\n",
       "    <tr>\n",
       "      <th>5</th>\n",
       "      <td>basement</td>\n",
       "      <td>1.28</td>\n",
       "    </tr>\n",
       "    <tr>\n",
       "      <th>3</th>\n",
       "      <td>stories</td>\n",
       "      <td>1.26</td>\n",
       "    </tr>\n",
       "    <tr>\n",
       "      <th>2</th>\n",
       "      <td>bathrooms</td>\n",
       "      <td>1.25</td>\n",
       "    </tr>\n",
       "    <tr>\n",
       "      <th>4</th>\n",
       "      <td>guestroom</td>\n",
       "      <td>1.21</td>\n",
       "    </tr>\n",
       "    <tr>\n",
       "      <th>7</th>\n",
       "      <td>airconditioning</td>\n",
       "      <td>1.19</td>\n",
       "    </tr>\n",
       "    <tr>\n",
       "      <th>8</th>\n",
       "      <td>parking</td>\n",
       "      <td>1.19</td>\n",
       "    </tr>\n",
       "    <tr>\n",
       "      <th>9</th>\n",
       "      <td>prefarea</td>\n",
       "      <td>1.11</td>\n",
       "    </tr>\n",
       "    <tr>\n",
       "      <th>6</th>\n",
       "      <td>hotwaterheating</td>\n",
       "      <td>1.04</td>\n",
       "    </tr>\n",
       "  </tbody>\n",
       "</table>\n",
       "</div>"
      ],
      "text/plain": [
       "           Features    VIF\n",
       "0             const  10.02\n",
       "11      unfurnished   1.70\n",
       "10   semi-furnished   1.61\n",
       "1              area   1.28\n",
       "5          basement   1.28\n",
       "3           stories   1.26\n",
       "2         bathrooms   1.25\n",
       "4         guestroom   1.21\n",
       "7   airconditioning   1.19\n",
       "8           parking   1.19\n",
       "9          prefarea   1.11\n",
       "6   hotwaterheating   1.04"
      ]
     },
     "execution_count": 393,
     "metadata": {},
     "output_type": "execute_result"
    }
   ],
   "source": [
    "Vvvif"
   ]
  },
  {
   "cell_type": "markdown",
   "id": "b57bc300",
   "metadata": {},
   "source": [
    "#### Now we are good to go with this model , because all the varibles have very small p-value and the value of VIF is also less than 5"
   ]
  },
  {
   "cell_type": "code",
   "execution_count": 394,
   "id": "7ae7ab93",
   "metadata": {},
   "outputs": [
    {
     "data": {
      "text/plain": [
       "<statsmodels.regression.linear_model.RegressionResultsWrapper at 0x148d14ed760>"
      ]
     },
     "execution_count": 394,
     "metadata": {},
     "output_type": "execute_result"
    }
   ],
   "source": [
    "unfur_model"
   ]
  },
  {
   "cell_type": "code",
   "execution_count": 397,
   "id": "554b18af",
   "metadata": {},
   "outputs": [],
   "source": [
    "X_test = sm.add_constant(X_test)"
   ]
  },
  {
   "cell_type": "code",
   "execution_count": 408,
   "id": "0f6dffcb",
   "metadata": {},
   "outputs": [],
   "source": [
    "predicted_y = unfur_model.predict(X_test)"
   ]
  },
  {
   "cell_type": "code",
   "execution_count": 405,
   "id": "f631642e",
   "metadata": {},
   "outputs": [
    {
     "data": {
      "text/plain": [
       "(436, 11)"
      ]
     },
     "execution_count": 405,
     "metadata": {},
     "output_type": "execute_result"
    }
   ],
   "source": [
    "x.shape"
   ]
  },
  {
   "cell_type": "code",
   "execution_count": 406,
   "id": "547c8581",
   "metadata": {},
   "outputs": [],
   "source": [
    "X_test = X_test.drop(['bedrooms' , 'mainroad' , 'semi-furnished' ] , axis = 1)"
   ]
  },
  {
   "cell_type": "code",
   "execution_count": 435,
   "id": "bfed6fc0",
   "metadata": {},
   "outputs": [
    {
     "data": {
      "text/plain": [
       "<AxesSubplot:>"
      ]
     },
     "execution_count": 435,
     "metadata": {},
     "output_type": "execute_result"
    },
    {
     "data": {
      "image/png": "[encoded data removed]",
      "text/plain": [
       "<Figure size 432x288 with 1 Axes>"
      ]
     },
     "metadata": {
      "needs_background": "light"
     },
     "output_type": "display_data"
    }
   ],
   "source": [
    "sns.distplot(y_test - predicted_y)"
   ]
  },
  {
   "cell_type": "code",
   "execution_count": 419,
   "id": "ae2a832c",
   "metadata": {},
   "outputs": [
    {
     "data": {
      "image/png": "[encoded data removed]",
      "text/plain": [
       "<Figure size 576x432 with 1 Axes>"
      ]
     },
     "metadata": {
      "needs_background": "light"
     },
     "output_type": "display_data"
    }
   ],
   "source": [
    "plt.figure(figsize = (8,6))\n",
    "plt.scatter(predicted_y , y_test)\n",
    "plt.xlabel('Predicted Y' , fontsize = 15)\n",
    "plt.ylabel('Y_test' , fontsize = 15)\n",
    "plt.title('Y_predicted VS Y_test' , fontsize = 20)\n",
    "plt.show()"
   ]
  },
  {
   "cell_type": "code",
   "execution_count": 422,
   "id": "e3b0a526",
   "metadata": {},
   "outputs": [
    {
     "data": {
      "text/plain": [
       "const              0.059932\n",
       "area               0.323844\n",
       "bathrooms          0.268666\n",
       "stories            0.126261\n",
       "guestroom          0.029472\n",
       "basement           0.025465\n",
       "hotwaterheating    0.076315\n",
       "airconditioning    0.078979\n",
       "parking            0.024124\n",
       "prefarea           0.056786\n",
       "unfurnished       -0.032490\n",
       "dtype: float64"
      ]
     },
     "execution_count": 422,
     "metadata": {},
     "output_type": "execute_result"
    }
   ],
   "source": [
    "unfur_model.params"
   ]
  },
  {
   "cell_type": "code",
   "execution_count": 428,
   "id": "d03a9f6b",
   "metadata": {},
   "outputs": [
    {
     "data": {
      "text/html": [
       "<table class=\"simpletable\">\n",
       "<caption>OLS Regression Results</caption>\n",
       "<tr>\n",
       "  <th>Dep. Variable:</th>          <td>price</td>      <th>  R-squared:         </th> <td>   0.676</td>\n",
       "</tr>\n",
       "<tr>\n",
       "  <th>Model:</th>                   <td>OLS</td>       <th>  Adj. R-squared:    </th> <td>   0.669</td>\n",
       "</tr>\n",
       "<tr>\n",
       "  <th>Method:</th>             <td>Least Squares</td>  <th>  F-statistic:       </th> <td>   88.78</td>\n",
       "</tr>\n",
       "<tr>\n",
       "  <th>Date:</th>             <td>Sun, 26 Dec 2021</td> <th>  Prob (F-statistic):</th> <td>1.54e-97</td>\n",
       "</tr>\n",
       "<tr>\n",
       "  <th>Time:</th>                 <td>10:41:58</td>     <th>  Log-Likelihood:    </th> <td>  422.94</td>\n",
       "</tr>\n",
       "<tr>\n",
       "  <th>No. Observations:</th>      <td>   436</td>      <th>  AIC:               </th> <td>  -823.9</td>\n",
       "</tr>\n",
       "<tr>\n",
       "  <th>Df Residuals:</th>          <td>   425</td>      <th>  BIC:               </th> <td>  -779.0</td>\n",
       "</tr>\n",
       "<tr>\n",
       "  <th>Df Model:</th>              <td>    10</td>      <th>                     </th>     <td> </td>   \n",
       "</tr>\n",
       "<tr>\n",
       "  <th>Covariance Type:</th>      <td>nonrobust</td>    <th>                     </th>     <td> </td>   \n",
       "</tr>\n",
       "</table>\n",
       "<table class=\"simpletable\">\n",
       "<tr>\n",
       "         <td></td>            <th>coef</th>     <th>std err</th>      <th>t</th>      <th>P>|t|</th>  <th>[0.025</th>    <th>0.975]</th>  \n",
       "</tr>\n",
       "<tr>\n",
       "  <th>const</th>           <td>    0.0599</td> <td>    0.011</td> <td>    5.264</td> <td> 0.000</td> <td>    0.038</td> <td>    0.082</td>\n",
       "</tr>\n",
       "<tr>\n",
       "  <th>area</th>            <td>    0.3238</td> <td>    0.033</td> <td>    9.775</td> <td> 0.000</td> <td>    0.259</td> <td>    0.389</td>\n",
       "</tr>\n",
       "<tr>\n",
       "  <th>bathrooms</th>       <td>    0.2687</td> <td>    0.029</td> <td>    9.221</td> <td> 0.000</td> <td>    0.211</td> <td>    0.326</td>\n",
       "</tr>\n",
       "<tr>\n",
       "  <th>stories</th>         <td>    0.1263</td> <td>    0.017</td> <td>    7.388</td> <td> 0.000</td> <td>    0.093</td> <td>    0.160</td>\n",
       "</tr>\n",
       "<tr>\n",
       "  <th>guestroom</th>       <td>    0.0295</td> <td>    0.013</td> <td>    2.271</td> <td> 0.024</td> <td>    0.004</td> <td>    0.055</td>\n",
       "</tr>\n",
       "<tr>\n",
       "  <th>basement</th>        <td>    0.0255</td> <td>    0.011</td> <td>    2.418</td> <td> 0.016</td> <td>    0.005</td> <td>    0.046</td>\n",
       "</tr>\n",
       "<tr>\n",
       "  <th>hotwaterheating</th> <td>    0.0763</td> <td>    0.021</td> <td>    3.678</td> <td> 0.000</td> <td>    0.036</td> <td>    0.117</td>\n",
       "</tr>\n",
       "<tr>\n",
       "  <th>airconditioning</th> <td>    0.0790</td> <td>    0.010</td> <td>    7.626</td> <td> 0.000</td> <td>    0.059</td> <td>    0.099</td>\n",
       "</tr>\n",
       "<tr>\n",
       "  <th>parking</th>         <td>    0.0241</td> <td>    0.006</td> <td>    4.336</td> <td> 0.000</td> <td>    0.013</td> <td>    0.035</td>\n",
       "</tr>\n",
       "<tr>\n",
       "  <th>prefarea</th>        <td>    0.0568</td> <td>    0.011</td> <td>    5.092</td> <td> 0.000</td> <td>    0.035</td> <td>    0.079</td>\n",
       "</tr>\n",
       "<tr>\n",
       "  <th>unfurnished</th>     <td>   -0.0325</td> <td>    0.010</td> <td>   -3.325</td> <td> 0.001</td> <td>   -0.052</td> <td>   -0.013</td>\n",
       "</tr>\n",
       "</table>\n",
       "<table class=\"simpletable\">\n",
       "<tr>\n",
       "  <th>Omnibus:</th>       <td>88.650</td> <th>  Durbin-Watson:     </th> <td>   1.894</td>\n",
       "</tr>\n",
       "<tr>\n",
       "  <th>Prob(Omnibus):</th> <td> 0.000</td> <th>  Jarque-Bera (JB):  </th> <td> 250.957</td>\n",
       "</tr>\n",
       "<tr>\n",
       "  <th>Skew:</th>          <td> 0.960</td> <th>  Prob(JB):          </th> <td>3.20e-55</td>\n",
       "</tr>\n",
       "<tr>\n",
       "  <th>Kurtosis:</th>      <td> 6.182</td> <th>  Cond. No.          </th> <td>    12.1</td>\n",
       "</tr>\n",
       "</table><br/><br/>Notes:<br/>[1] Standard Errors assume that the covariance matrix of the errors is correctly specified."
      ],
      "text/plain": [
       "<class 'statsmodels.iolib.summary.Summary'>\n",
       "\"\"\"\n",
       "                            OLS Regression Results                            \n",
       "==============================================================================\n",
       "Dep. Variable:                  price   R-squared:                       0.676\n",
       "Model:                            OLS   Adj. R-squared:                  0.669\n",
       "Method:                 Least Squares   F-statistic:                     88.78\n",
       "Date:                Sun, 26 Dec 2021   Prob (F-statistic):           1.54e-97\n",
       "Time:                        10:41:58   Log-Likelihood:                 422.94\n",
       "No. Observations:                 436   AIC:                            -823.9\n",
       "Df Residuals:                     425   BIC:                            -779.0\n",
       "Df Model:                          10                                         \n",
       "Covariance Type:            nonrobust                                         \n",
       "===================================================================================\n",
       "                      coef    std err          t      P>|t|      [0.025      0.975]\n",
       "-----------------------------------------------------------------------------------\n",
       "const               0.0599      0.011      5.264      0.000       0.038       0.082\n",
       "area                0.3238      0.033      9.775      0.000       0.259       0.389\n",
       "bathrooms           0.2687      0.029      9.221      0.000       0.211       0.326\n",
       "stories             0.1263      0.017      7.388      0.000       0.093       0.160\n",
       "guestroom           0.0295      0.013      2.271      0.024       0.004       0.055\n",
       "basement            0.0255      0.011      2.418      0.016       0.005       0.046\n",
       "hotwaterheating     0.0763      0.021      3.678      0.000       0.036       0.117\n",
       "airconditioning     0.0790      0.010      7.626      0.000       0.059       0.099\n",
       "parking             0.0241      0.006      4.336      0.000       0.013       0.035\n",
       "prefarea            0.0568      0.011      5.092      0.000       0.035       0.079\n",
       "unfurnished        -0.0325      0.010     -3.325      0.001      -0.052      -0.013\n",
       "==============================================================================\n",
       "Omnibus:                       88.650   Durbin-Watson:                   1.894\n",
       "Prob(Omnibus):                  0.000   Jarque-Bera (JB):              250.957\n",
       "Skew:                           0.960   Prob(JB):                     3.20e-55\n",
       "Kurtosis:                       6.182   Cond. No.                         12.1\n",
       "==============================================================================\n",
       "\n",
       "Notes:\n",
       "[1] Standard Errors assume that the covariance matrix of the errors is correctly specified.\n",
       "\"\"\""
      ]
     },
     "execution_count": 428,
     "metadata": {},
     "output_type": "execute_result"
    }
   ],
   "source": [
    "unfur_model.summary()"
   ]
  },
  {
   "cell_type": "markdown",
   "id": "9d0cf085",
   "metadata": {},
   "source": [
    "### Now we created the model ,accuracy is not too good but it's fine."
   ]
  },
  {
   "cell_type": "code",
   "execution_count": null,
   "id": "c3f6b2b1",
   "metadata": {},
   "outputs": [],
   "source": [
    "price = area *0.323844 + bathrooms * 0.268666  + stories * 0.126261 + guestroom * 0.029472 + basement * 0.025465 + hotwaterheating * 0.076315 + airconditioning * 0.078979 + parking * 0.024124 + prefarea * 0.056786 + unfurnished * -0.032490"
   ]
  },
  {
   "cell_type": "markdown",
   "id": "e1be399e",
   "metadata": {},
   "source": [
    "### We can predict the price of house with the help of above formula"
   ]
  },
  {
   "cell_type": "markdown",
   "id": "c039c3a9",
   "metadata": {},
   "source": [
    "## Now we are trying to build model using RFE"
   ]
  },
  {
   "cell_type": "code",
   "execution_count": 439,
   "id": "1fe741db",
   "metadata": {},
   "outputs": [],
   "source": [
    "linear_model = LinearRegression()"
   ]
  },
  {
   "cell_type": "code",
   "execution_count": 440,
   "id": "eb1c6e3c",
   "metadata": {},
   "outputs": [
    {
     "data": {
      "text/plain": [
       "LinearRegression()"
      ]
     },
     "execution_count": 440,
     "metadata": {},
     "output_type": "execute_result"
    }
   ],
   "source": [
    "linear_model.fit(X_train , y_train)"
   ]
  },
  {
   "cell_type": "code",
   "execution_count": 445,
   "id": "567b760f",
   "metadata": {},
   "outputs": [],
   "source": [
    "rfe_model = RFE(linear_model , 10)\n",
    "rfe_model = rfe_model.fit(X_train , y_train)"
   ]
  },
  {
   "cell_type": "code",
   "execution_count": 448,
   "id": "c821bd1b",
   "metadata": {},
   "outputs": [
    {
     "data": {
      "text/plain": [
       "[('area', True, 1),\n",
       " ('bedrooms', False, 3),\n",
       " ('bathrooms', True, 1),\n",
       " ('stories', True, 1),\n",
       " ('mainroad', True, 1),\n",
       " ('guestroom', True, 1),\n",
       " ('basement', True, 1),\n",
       " ('hotwaterheating', True, 1),\n",
       " ('airconditioning', True, 1),\n",
       " ('parking', False, 2),\n",
       " ('prefarea', True, 1),\n",
       " ('semi-furnished', False, 4),\n",
       " ('unfurnished', True, 1)]"
      ]
     },
     "execution_count": 448,
     "metadata": {},
     "output_type": "execute_result"
    }
   ],
   "source": [
    "list(zip(X_train.columns , rfe_model.support_ , rfe_model.ranking_))"
   ]
  },
  {
   "cell_type": "code",
   "execution_count": 452,
   "id": "30919ed7",
   "metadata": {},
   "outputs": [],
   "source": [
    "cols = X_train.columns[rfe_model.support_]"
   ]
  },
  {
   "cell_type": "code",
   "execution_count": 457,
   "id": "7d9479a0",
   "metadata": {},
   "outputs": [],
   "source": [
    "cols = X_train[cols]"
   ]
  },
  {
   "cell_type": "code",
   "execution_count": 459,
   "id": "3bd4da9e",
   "metadata": {},
   "outputs": [],
   "source": [
    "sm_x_train = sm.add_constant(cols)"
   ]
  },
  {
   "cell_type": "code",
   "execution_count": 467,
   "id": "83ca6c21",
   "metadata": {},
   "outputs": [],
   "source": [
    "sm_model = sm.OLS( y_train ,  sm_x_train).fit()"
   ]
  },
  {
   "cell_type": "code",
   "execution_count": 468,
   "id": "99fe0e36",
   "metadata": {},
   "outputs": [
    {
     "data": {
      "text/html": [
       "<table class=\"simpletable\">\n",
       "<caption>OLS Regression Results</caption>\n",
       "<tr>\n",
       "  <th>Dep. Variable:</th>          <td>price</td>      <th>  R-squared:         </th> <td>   0.669</td>\n",
       "</tr>\n",
       "<tr>\n",
       "  <th>Model:</th>                   <td>OLS</td>       <th>  Adj. R-squared:    </th> <td>   0.661</td>\n",
       "</tr>\n",
       "<tr>\n",
       "  <th>Method:</th>             <td>Least Squares</td>  <th>  F-statistic:       </th> <td>   85.79</td>\n",
       "</tr>\n",
       "<tr>\n",
       "  <th>Date:</th>             <td>Sun, 26 Dec 2021</td> <th>  Prob (F-statistic):</th> <td>1.97e-95</td>\n",
       "</tr>\n",
       "<tr>\n",
       "  <th>Time:</th>                 <td>20:24:43</td>     <th>  Log-Likelihood:    </th> <td>  417.91</td>\n",
       "</tr>\n",
       "<tr>\n",
       "  <th>No. Observations:</th>      <td>   436</td>      <th>  AIC:               </th> <td>  -813.8</td>\n",
       "</tr>\n",
       "<tr>\n",
       "  <th>Df Residuals:</th>          <td>   425</td>      <th>  BIC:               </th> <td>  -769.0</td>\n",
       "</tr>\n",
       "<tr>\n",
       "  <th>Df Model:</th>              <td>    10</td>      <th>                     </th>     <td> </td>   \n",
       "</tr>\n",
       "<tr>\n",
       "  <th>Covariance Type:</th>      <td>nonrobust</td>    <th>                     </th>     <td> </td>   \n",
       "</tr>\n",
       "</table>\n",
       "<table class=\"simpletable\">\n",
       "<tr>\n",
       "         <td></td>            <th>coef</th>     <th>std err</th>      <th>t</th>      <th>P>|t|</th>  <th>[0.025</th>    <th>0.975]</th>  \n",
       "</tr>\n",
       "<tr>\n",
       "  <th>const</th>           <td>    0.0365</td> <td>    0.015</td> <td>    2.397</td> <td> 0.017</td> <td>    0.007</td> <td>    0.066</td>\n",
       "</tr>\n",
       "<tr>\n",
       "  <th>area</th>            <td>    0.3479</td> <td>    0.033</td> <td>   10.668</td> <td> 0.000</td> <td>    0.284</td> <td>    0.412</td>\n",
       "</tr>\n",
       "<tr>\n",
       "  <th>bathrooms</th>       <td>    0.2857</td> <td>    0.029</td> <td>    9.729</td> <td> 0.000</td> <td>    0.228</td> <td>    0.343</td>\n",
       "</tr>\n",
       "<tr>\n",
       "  <th>stories</th>         <td>    0.1203</td> <td>    0.017</td> <td>    6.931</td> <td> 0.000</td> <td>    0.086</td> <td>    0.154</td>\n",
       "</tr>\n",
       "<tr>\n",
       "  <th>mainroad</th>        <td>    0.0411</td> <td>    0.014</td> <td>    2.948</td> <td> 0.003</td> <td>    0.014</td> <td>    0.068</td>\n",
       "</tr>\n",
       "<tr>\n",
       "  <th>guestroom</th>       <td>    0.0241</td> <td>    0.013</td> <td>    1.836</td> <td> 0.067</td> <td>   -0.002</td> <td>    0.050</td>\n",
       "</tr>\n",
       "<tr>\n",
       "  <th>basement</th>        <td>    0.0260</td> <td>    0.011</td> <td>    2.438</td> <td> 0.015</td> <td>    0.005</td> <td>    0.047</td>\n",
       "</tr>\n",
       "<tr>\n",
       "  <th>hotwaterheating</th> <td>    0.0832</td> <td>    0.021</td> <td>    3.972</td> <td> 0.000</td> <td>    0.042</td> <td>    0.124</td>\n",
       "</tr>\n",
       "<tr>\n",
       "  <th>airconditioning</th> <td>    0.0818</td> <td>    0.010</td> <td>    7.827</td> <td> 0.000</td> <td>    0.061</td> <td>    0.102</td>\n",
       "</tr>\n",
       "<tr>\n",
       "  <th>prefarea</th>        <td>    0.0530</td> <td>    0.011</td> <td>    4.660</td> <td> 0.000</td> <td>    0.031</td> <td>    0.075</td>\n",
       "</tr>\n",
       "<tr>\n",
       "  <th>unfurnished</th>     <td>   -0.0336</td> <td>    0.010</td> <td>   -3.395</td> <td> 0.001</td> <td>   -0.053</td> <td>   -0.014</td>\n",
       "</tr>\n",
       "</table>\n",
       "<table class=\"simpletable\">\n",
       "<tr>\n",
       "  <th>Omnibus:</th>       <td>109.835</td> <th>  Durbin-Watson:     </th> <td>   1.893</td>\n",
       "</tr>\n",
       "<tr>\n",
       "  <th>Prob(Omnibus):</th> <td> 0.000</td>  <th>  Jarque-Bera (JB):  </th> <td> 337.927</td>\n",
       "</tr>\n",
       "<tr>\n",
       "  <th>Skew:</th>          <td> 1.158</td>  <th>  Prob(JB):          </th> <td>4.17e-74</td>\n",
       "</tr>\n",
       "<tr>\n",
       "  <th>Kurtosis:</th>      <td> 6.638</td>  <th>  Cond. No.          </th> <td>    12.0</td>\n",
       "</tr>\n",
       "</table><br/><br/>Notes:<br/>[1] Standard Errors assume that the covariance matrix of the errors is correctly specified."
      ],
      "text/plain": [
       "<class 'statsmodels.iolib.summary.Summary'>\n",
       "\"\"\"\n",
       "                            OLS Regression Results                            \n",
       "==============================================================================\n",
       "Dep. Variable:                  price   R-squared:                       0.669\n",
       "Model:                            OLS   Adj. R-squared:                  0.661\n",
       "Method:                 Least Squares   F-statistic:                     85.79\n",
       "Date:                Sun, 26 Dec 2021   Prob (F-statistic):           1.97e-95\n",
       "Time:                        20:24:43   Log-Likelihood:                 417.91\n",
       "No. Observations:                 436   AIC:                            -813.8\n",
       "Df Residuals:                     425   BIC:                            -769.0\n",
       "Df Model:                          10                                         \n",
       "Covariance Type:            nonrobust                                         \n",
       "===================================================================================\n",
       "                      coef    std err          t      P>|t|      [0.025      0.975]\n",
       "-----------------------------------------------------------------------------------\n",
       "const               0.0365      0.015      2.397      0.017       0.007       0.066\n",
       "area                0.3479      0.033     10.668      0.000       0.284       0.412\n",
       "bathrooms           0.2857      0.029      9.729      0.000       0.228       0.343\n",
       "stories             0.1203      0.017      6.931      0.000       0.086       0.154\n",
       "mainroad            0.0411      0.014      2.948      0.003       0.014       0.068\n",
       "guestroom           0.0241      0.013      1.836      0.067      -0.002       0.050\n",
       "basement            0.0260      0.011      2.438      0.015       0.005       0.047\n",
       "hotwaterheating     0.0832      0.021      3.972      0.000       0.042       0.124\n",
       "airconditioning     0.0818      0.010      7.827      0.000       0.061       0.102\n",
       "prefarea            0.0530      0.011      4.660      0.000       0.031       0.075\n",
       "unfurnished        -0.0336      0.010     -3.395      0.001      -0.053      -0.014\n",
       "==============================================================================\n",
       "Omnibus:                      109.835   Durbin-Watson:                   1.893\n",
       "Prob(Omnibus):                  0.000   Jarque-Bera (JB):              337.927\n",
       "Skew:                           1.158   Prob(JB):                     4.17e-74\n",
       "Kurtosis:                       6.638   Cond. No.                         12.0\n",
       "==============================================================================\n",
       "\n",
       "Notes:\n",
       "[1] Standard Errors assume that the covariance matrix of the errors is correctly specified.\n",
       "\"\"\""
      ]
     },
     "execution_count": 468,
     "metadata": {},
     "output_type": "execute_result"
    }
   ],
   "source": [
    "sm_model.summary()"
   ]
  },
  {
   "cell_type": "code",
   "execution_count": 472,
   "id": "c6767a2f",
   "metadata": {},
   "outputs": [],
   "source": [
    "updated_sm_x_train = sm_x_train.drop('guestroom' , axis = 1)"
   ]
  },
  {
   "cell_type": "code",
   "execution_count": 473,
   "id": "7ceb2459",
   "metadata": {},
   "outputs": [],
   "source": [
    "lrrr_model = sm.OLS(y_train , updated_sm_x_train).fit()"
   ]
  },
  {
   "cell_type": "code",
   "execution_count": 474,
   "id": "3b8bf28b",
   "metadata": {},
   "outputs": [
    {
     "data": {
      "text/html": [
       "<table class=\"simpletable\">\n",
       "<caption>OLS Regression Results</caption>\n",
       "<tr>\n",
       "  <th>Dep. Variable:</th>          <td>price</td>      <th>  R-squared:         </th> <td>   0.666</td>\n",
       "</tr>\n",
       "<tr>\n",
       "  <th>Model:</th>                   <td>OLS</td>       <th>  Adj. R-squared:    </th> <td>   0.659</td>\n",
       "</tr>\n",
       "<tr>\n",
       "  <th>Method:</th>             <td>Least Squares</td>  <th>  F-statistic:       </th> <td>   94.42</td>\n",
       "</tr>\n",
       "<tr>\n",
       "  <th>Date:</th>             <td>Sun, 26 Dec 2021</td> <th>  Prob (F-statistic):</th> <td>1.04e-95</td>\n",
       "</tr>\n",
       "<tr>\n",
       "  <th>Time:</th>                 <td>20:29:47</td>     <th>  Log-Likelihood:    </th> <td>  416.19</td>\n",
       "</tr>\n",
       "<tr>\n",
       "  <th>No. Observations:</th>      <td>   436</td>      <th>  AIC:               </th> <td>  -812.4</td>\n",
       "</tr>\n",
       "<tr>\n",
       "  <th>Df Residuals:</th>          <td>   426</td>      <th>  BIC:               </th> <td>  -771.6</td>\n",
       "</tr>\n",
       "<tr>\n",
       "  <th>Df Model:</th>              <td>     9</td>      <th>                     </th>     <td> </td>   \n",
       "</tr>\n",
       "<tr>\n",
       "  <th>Covariance Type:</th>      <td>nonrobust</td>    <th>                     </th>     <td> </td>   \n",
       "</tr>\n",
       "</table>\n",
       "<table class=\"simpletable\">\n",
       "<tr>\n",
       "         <td></td>            <th>coef</th>     <th>std err</th>      <th>t</th>      <th>P>|t|</th>  <th>[0.025</th>    <th>0.975]</th>  \n",
       "</tr>\n",
       "<tr>\n",
       "  <th>const</th>           <td>    0.0350</td> <td>    0.015</td> <td>    2.297</td> <td> 0.022</td> <td>    0.005</td> <td>    0.065</td>\n",
       "</tr>\n",
       "<tr>\n",
       "  <th>area</th>            <td>    0.3518</td> <td>    0.033</td> <td>   10.779</td> <td> 0.000</td> <td>    0.288</td> <td>    0.416</td>\n",
       "</tr>\n",
       "<tr>\n",
       "  <th>bathrooms</th>       <td>    0.2897</td> <td>    0.029</td> <td>    9.867</td> <td> 0.000</td> <td>    0.232</td> <td>    0.347</td>\n",
       "</tr>\n",
       "<tr>\n",
       "  <th>stories</th>         <td>    0.1223</td> <td>    0.017</td> <td>    7.040</td> <td> 0.000</td> <td>    0.088</td> <td>    0.156</td>\n",
       "</tr>\n",
       "<tr>\n",
       "  <th>mainroad</th>        <td>    0.0420</td> <td>    0.014</td> <td>    3.008</td> <td> 0.003</td> <td>    0.015</td> <td>    0.069</td>\n",
       "</tr>\n",
       "<tr>\n",
       "  <th>basement</th>        <td>    0.0324</td> <td>    0.010</td> <td>    3.214</td> <td> 0.001</td> <td>    0.013</td> <td>    0.052</td>\n",
       "</tr>\n",
       "<tr>\n",
       "  <th>hotwaterheating</th> <td>    0.0839</td> <td>    0.021</td> <td>    3.992</td> <td> 0.000</td> <td>    0.043</td> <td>    0.125</td>\n",
       "</tr>\n",
       "<tr>\n",
       "  <th>airconditioning</th> <td>    0.0830</td> <td>    0.010</td> <td>    7.936</td> <td> 0.000</td> <td>    0.062</td> <td>    0.104</td>\n",
       "</tr>\n",
       "<tr>\n",
       "  <th>prefarea</th>        <td>    0.0544</td> <td>    0.011</td> <td>    4.776</td> <td> 0.000</td> <td>    0.032</td> <td>    0.077</td>\n",
       "</tr>\n",
       "<tr>\n",
       "  <th>unfurnished</th>     <td>   -0.0338</td> <td>    0.010</td> <td>   -3.411</td> <td> 0.001</td> <td>   -0.053</td> <td>   -0.014</td>\n",
       "</tr>\n",
       "</table>\n",
       "<table class=\"simpletable\">\n",
       "<tr>\n",
       "  <th>Omnibus:</th>       <td>108.894</td> <th>  Durbin-Watson:     </th> <td>   1.892</td>\n",
       "</tr>\n",
       "<tr>\n",
       "  <th>Prob(Omnibus):</th> <td> 0.000</td>  <th>  Jarque-Bera (JB):  </th> <td> 325.717</td>\n",
       "</tr>\n",
       "<tr>\n",
       "  <th>Skew:</th>          <td> 1.159</td>  <th>  Prob(JB):          </th> <td>1.87e-71</td>\n",
       "</tr>\n",
       "<tr>\n",
       "  <th>Kurtosis:</th>      <td> 6.544</td>  <th>  Cond. No.          </th> <td>    11.9</td>\n",
       "</tr>\n",
       "</table><br/><br/>Notes:<br/>[1] Standard Errors assume that the covariance matrix of the errors is correctly specified."
      ],
      "text/plain": [
       "<class 'statsmodels.iolib.summary.Summary'>\n",
       "\"\"\"\n",
       "                            OLS Regression Results                            \n",
       "==============================================================================\n",
       "Dep. Variable:                  price   R-squared:                       0.666\n",
       "Model:                            OLS   Adj. R-squared:                  0.659\n",
       "Method:                 Least Squares   F-statistic:                     94.42\n",
       "Date:                Sun, 26 Dec 2021   Prob (F-statistic):           1.04e-95\n",
       "Time:                        20:29:47   Log-Likelihood:                 416.19\n",
       "No. Observations:                 436   AIC:                            -812.4\n",
       "Df Residuals:                     426   BIC:                            -771.6\n",
       "Df Model:                           9                                         \n",
       "Covariance Type:            nonrobust                                         \n",
       "===================================================================================\n",
       "                      coef    std err          t      P>|t|      [0.025      0.975]\n",
       "-----------------------------------------------------------------------------------\n",
       "const               0.0350      0.015      2.297      0.022       0.005       0.065\n",
       "area                0.3518      0.033     10.779      0.000       0.288       0.416\n",
       "bathrooms           0.2897      0.029      9.867      0.000       0.232       0.347\n",
       "stories             0.1223      0.017      7.040      0.000       0.088       0.156\n",
       "mainroad            0.0420      0.014      3.008      0.003       0.015       0.069\n",
       "basement            0.0324      0.010      3.214      0.001       0.013       0.052\n",
       "hotwaterheating     0.0839      0.021      3.992      0.000       0.043       0.125\n",
       "airconditioning     0.0830      0.010      7.936      0.000       0.062       0.104\n",
       "prefarea            0.0544      0.011      4.776      0.000       0.032       0.077\n",
       "unfurnished        -0.0338      0.010     -3.411      0.001      -0.053      -0.014\n",
       "==============================================================================\n",
       "Omnibus:                      108.894   Durbin-Watson:                   1.892\n",
       "Prob(Omnibus):                  0.000   Jarque-Bera (JB):              325.717\n",
       "Skew:                           1.159   Prob(JB):                     1.87e-71\n",
       "Kurtosis:                       6.544   Cond. No.                         11.9\n",
       "==============================================================================\n",
       "\n",
       "Notes:\n",
       "[1] Standard Errors assume that the covariance matrix of the errors is correctly specified.\n",
       "\"\"\""
      ]
     },
     "execution_count": 474,
     "metadata": {},
     "output_type": "execute_result"
    }
   ],
   "source": [
    "lrrr_model.summary()"
   ]
  },
  {
   "cell_type": "markdown",
   "id": "dc76bcad",
   "metadata": {},
   "source": [
    "#### The formla for predicting the price of the house - "
   ]
  },
  {
   "cell_type": "markdown",
   "id": "2e9900db",
   "metadata": {},
   "source": [
    "price = area *0.323844 + bathrooms * 0.268666  + stories * 0.126261 + guestroom * 0.029472 + basement * 0.025465 + hotwaterheating * 0.076315 + airconditioning * 0.078979 + parking * 0.024124 + prefarea * 0.056786 + unfurnished * -0.032490"
   ]
  },
  {
   "cell_type": "code",
   "execution_count": null,
   "id": "e8e12352",
   "metadata": {},
   "outputs": [],
   "source": []
  }
 ],
 "metadata": {
  "kernelspec": {
   "display_name": "Python 3",
   "language": "python",
   "name": "python3"
  },
  "language_info": {
   "codemirror_mode": {
    "name": "ipython",
    "version": 3
   },
   "file_extension": ".py",
   "mimetype": "text/x-python",
   "name": "python",
   "nbconvert_exporter": "python",
   "pygments_lexer": "ipython3",
   "version": "3.8.8"
  }
 },
 "nbformat": 4,
 "nbformat_minor": 5
}
